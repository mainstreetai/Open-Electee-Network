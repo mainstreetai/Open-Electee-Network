{
 "cells": [
  {
   "cell_type": "code",
   "execution_count": 57,
   "metadata": {},
   "outputs": [],
   "source": [
    "from shapely.geometry import Point, Polygon, MultiPolygon"
   ]
  },
  {
   "cell_type": "code",
   "execution_count": 58,
   "metadata": {},
   "outputs": [],
   "source": [
    "def get_polygon(x):\n",
    "    # shape = np.shape(member_info['geometry']['coordinates'])\n",
    "    coordinates = x['coordinates']\n",
    "    collect = []\n",
    "    def make_polygons(coordinates):\n",
    "        try:\n",
    "            collect.append(Polygon(coordinates))\n",
    "        except:\n",
    "            for x in coordinates:\n",
    "                make_polygons(x)\n",
    "    make_polygons(coordinates)\n",
    "    return MultiPolygon(collect)"
   ]
  },
  {
   "cell_type": "code",
   "execution_count": 59,
   "metadata": {},
   "outputs": [],
   "source": [
    "import pandas as pd\n",
    "import json"
   ]
  },
  {
   "cell_type": "code",
   "execution_count": 60,
   "metadata": {},
   "outputs": [],
   "source": [
    "congress_df = pd.read_csv('../../data/congress_data.csv')"
   ]
  },
  {
   "cell_type": "code",
   "execution_count": 75,
   "metadata": {},
   "outputs": [],
   "source": [
    "congress_df[[c for c in congress_df if c!='geometry']].to_csv('../../data/congress_data_slim.csv')"
   ]
  },
  {
   "cell_type": "code",
   "execution_count": 61,
   "metadata": {},
   "outputs": [],
   "source": [
    "state_df = pd.read_csv('../../data/state_data.csv')"
   ]
  },
  {
   "cell_type": "code",
   "execution_count": 76,
   "metadata": {},
   "outputs": [],
   "source": [
    "state_df[[c for c in state_df if c!='geometry']].to_csv('../../data/state_data_slim.csv')"
   ]
  },
  {
   "cell_type": "code",
   "execution_count": 62,
   "metadata": {},
   "outputs": [],
   "source": [
    "def make_shape(geo_info):\n",
    "    if geo_info['type'] == 'Polygon':\n",
    "        try:\n",
    "            return Polygon(geo_info['coordinates'])\n",
    "        except:\n",
    "            print(geo_info)\n",
    "            1/0\n",
    "    elif geo_info['type'] == 'MultiPolygon':\n",
    "        return MultiPolygon(geo_info['coordinates'])"
   ]
  },
  {
   "cell_type": "code",
   "execution_count": 63,
   "metadata": {},
   "outputs": [
    {
     "data": {
      "text/html": [
       "<div>\n",
       "<style scoped>\n",
       "    .dataframe tbody tr th:only-of-type {\n",
       "        vertical-align: middle;\n",
       "    }\n",
       "\n",
       "    .dataframe tbody tr th {\n",
       "        vertical-align: top;\n",
       "    }\n",
       "\n",
       "    .dataframe thead th {\n",
       "        text-align: right;\n",
       "    }\n",
       "</style>\n",
       "<table border=\"1\" class=\"dataframe\">\n",
       "  <thead>\n",
       "    <tr style=\"text-align: right;\">\n",
       "      <th></th>\n",
       "      <th>geoid</th>\n",
       "      <th>district_num</th>\n",
       "      <th>state</th>\n",
       "      <th>aclu_id</th>\n",
       "      <th>chamber</th>\n",
       "      <th>geometry</th>\n",
       "      <th>name</th>\n",
       "      <th>district</th>\n",
       "      <th>oen_district</th>\n",
       "      <th>id</th>\n",
       "      <th>...</th>\n",
       "      <th>capitol_address</th>\n",
       "      <th>capitol_voice</th>\n",
       "      <th>capitol_fax</th>\n",
       "      <th>district_address</th>\n",
       "      <th>district_voice</th>\n",
       "      <th>district_fax</th>\n",
       "      <th>twitter</th>\n",
       "      <th>youtube</th>\n",
       "      <th>instagram</th>\n",
       "      <th>facebook</th>\n",
       "    </tr>\n",
       "  </thead>\n",
       "  <tbody>\n",
       "    <tr>\n",
       "      <th>0</th>\n",
       "      <td>50ECO</td>\n",
       "      <td>ECO</td>\n",
       "      <td>vt</td>\n",
       "      <td>aclu/elections-api/state_leg:6904</td>\n",
       "      <td>lower</td>\n",
       "      <td>{\"coordinates\": [[[-72.114156, 44.750041], [-7...</td>\n",
       "      <td>Essex-Caledonia-Orleans State House District</td>\n",
       "      <td>Essex-Caledonia-Orleans</td>\n",
       "      <td>vt__lower__Essex-Caledonia-Orleans</td>\n",
       "      <td>ocd-person/dab673f8-4a06-4563-b1ed-6180675cd37c</td>\n",
       "      <td>...</td>\n",
       "      <td>Vermont State House;115 State Street;Montpelie...</td>\n",
       "      <td>NaN</td>\n",
       "      <td>NaN</td>\n",
       "      <td>P.O. Box 397;Island Pond, VT 05846</td>\n",
       "      <td>802-467-8338</td>\n",
       "      <td>NaN</td>\n",
       "      <td>NaN</td>\n",
       "      <td>NaN</td>\n",
       "      <td>NaN</td>\n",
       "      <td>NaN</td>\n",
       "    </tr>\n",
       "    <tr>\n",
       "      <th>1</th>\n",
       "      <td>50E-C</td>\n",
       "      <td>E-C</td>\n",
       "      <td>vt</td>\n",
       "      <td>aclu/elections-api/state_leg:6903</td>\n",
       "      <td>lower</td>\n",
       "      <td>{\"coordinates\": [[[-71.958164, 44.491377], [-7...</td>\n",
       "      <td>Essex-Caledonia State House District</td>\n",
       "      <td>Essex-Caledonia</td>\n",
       "      <td>vt__lower__Essex-Caledonia</td>\n",
       "      <td>ocd-person/3ccfc509-4351-477a-869a-849eb6f10a5d</td>\n",
       "      <td>...</td>\n",
       "      <td>Vermont State House;115 State Street;Montpelie...</td>\n",
       "      <td>NaN</td>\n",
       "      <td>NaN</td>\n",
       "      <td>115 State St;Montpelier, VT 05633</td>\n",
       "      <td>802-535-4704</td>\n",
       "      <td>NaN</td>\n",
       "      <td>NaN</td>\n",
       "      <td>NaN</td>\n",
       "      <td>NaN</td>\n",
       "      <td>NaN</td>\n",
       "    </tr>\n",
       "    <tr>\n",
       "      <th>2</th>\n",
       "      <td>50BEN</td>\n",
       "      <td>BEN</td>\n",
       "      <td>vt</td>\n",
       "      <td>aclu/elections-api/state_leg:6967</td>\n",
       "      <td>upper</td>\n",
       "      <td>{\"coordinates\": [[[-73.290944, 42.80192], [-73...</td>\n",
       "      <td>Bennington State Senate District</td>\n",
       "      <td>Bennington</td>\n",
       "      <td>vt__upper__Bennington</td>\n",
       "      <td>ocd-person/5e6451d0-e410-48e5-854a-bcd0a0a5b3c0</td>\n",
       "      <td>...</td>\n",
       "      <td>Vermont State House;115 State Street;Montpelie...</td>\n",
       "      <td>NaN</td>\n",
       "      <td>NaN</td>\n",
       "      <td>1292 West Rd.;Bennington, VT 05201</td>\n",
       "      <td>NaN</td>\n",
       "      <td>NaN</td>\n",
       "      <td>NaN</td>\n",
       "      <td>NaN</td>\n",
       "      <td>NaN</td>\n",
       "      <td>NaN</td>\n",
       "    </tr>\n",
       "  </tbody>\n",
       "</table>\n",
       "<p>3 rows × 33 columns</p>\n",
       "</div>"
      ],
      "text/plain": [
       "   geoid district_num state                            aclu_id chamber  \\\n",
       "0  50ECO          ECO    vt  aclu/elections-api/state_leg:6904   lower   \n",
       "1  50E-C          E-C    vt  aclu/elections-api/state_leg:6903   lower   \n",
       "2  50BEN          BEN    vt  aclu/elections-api/state_leg:6967   upper   \n",
       "\n",
       "                                            geometry  \\\n",
       "0  {\"coordinates\": [[[-72.114156, 44.750041], [-7...   \n",
       "1  {\"coordinates\": [[[-71.958164, 44.491377], [-7...   \n",
       "2  {\"coordinates\": [[[-73.290944, 42.80192], [-73...   \n",
       "\n",
       "                                           name                 district  \\\n",
       "0  Essex-Caledonia-Orleans State House District  Essex-Caledonia-Orleans   \n",
       "1          Essex-Caledonia State House District          Essex-Caledonia   \n",
       "2              Bennington State Senate District               Bennington   \n",
       "\n",
       "                         oen_district  \\\n",
       "0  vt__lower__Essex-Caledonia-Orleans   \n",
       "1          vt__lower__Essex-Caledonia   \n",
       "2               vt__upper__Bennington   \n",
       "\n",
       "                                                id  ...  \\\n",
       "0  ocd-person/dab673f8-4a06-4563-b1ed-6180675cd37c  ...   \n",
       "1  ocd-person/3ccfc509-4351-477a-869a-849eb6f10a5d  ...   \n",
       "2  ocd-person/5e6451d0-e410-48e5-854a-bcd0a0a5b3c0  ...   \n",
       "\n",
       "                                     capitol_address capitol_voice  \\\n",
       "0  Vermont State House;115 State Street;Montpelie...           NaN   \n",
       "1  Vermont State House;115 State Street;Montpelie...           NaN   \n",
       "2  Vermont State House;115 State Street;Montpelie...           NaN   \n",
       "\n",
       "  capitol_fax                    district_address district_voice district_fax  \\\n",
       "0         NaN  P.O. Box 397;Island Pond, VT 05846   802-467-8338          NaN   \n",
       "1         NaN   115 State St;Montpelier, VT 05633   802-535-4704          NaN   \n",
       "2         NaN  1292 West Rd.;Bennington, VT 05201            NaN          NaN   \n",
       "\n",
       "  twitter youtube instagram  facebook  \n",
       "0     NaN     NaN       NaN       NaN  \n",
       "1     NaN     NaN       NaN       NaN  \n",
       "2     NaN     NaN       NaN       NaN  \n",
       "\n",
       "[3 rows x 33 columns]"
      ]
     },
     "execution_count": 63,
     "metadata": {},
     "output_type": "execute_result"
    }
   ],
   "source": [
    "state_df.head(3)"
   ]
  },
  {
   "cell_type": "code",
   "execution_count": 69,
   "metadata": {},
   "outputs": [
    {
     "name": "stderr",
     "output_type": "stream",
     "text": [
      "TopologyException: side location conflict at -82.121964000000006 36.646935999999997\n"
     ]
    },
    {
     "name": "stdout",
     "output_type": "stream",
     "text": [
      "va__lower__4\n"
     ]
    },
    {
     "name": "stderr",
     "output_type": "stream",
     "text": [
      "TopologyException: side location conflict at -98.474532999999994 45.502707000000001\n",
      "TopologyException: side location conflict at -98.474532999999994 45.502707000000001\n",
      "TopologyException: side location conflict at -98.474532999999994 45.502707000000001\n"
     ]
    },
    {
     "name": "stdout",
     "output_type": "stream",
     "text": [
      "sd__upper__2\n",
      "sd__lower__2\n",
      "sd__lower__2\n"
     ]
    },
    {
     "name": "stderr",
     "output_type": "stream",
     "text": [
      "TopologyException: side location conflict at -98.474532999999994 45.502707000000001\n",
      "TopologyException: side location conflict at -98.474532999999994 45.502707000000001\n",
      "TopologyException: side location conflict at -98.474532999999994 45.502707000000001\n"
     ]
    },
    {
     "name": "stdout",
     "output_type": "stream",
     "text": [
      "sd__upper__2\n",
      "sd__lower__2\n",
      "sd__lower__2\n"
     ]
    },
    {
     "name": "stderr",
     "output_type": "stream",
     "text": [
      "TopologyException: side location conflict at -112.62653299999999 38.308197999999997\n"
     ]
    },
    {
     "name": "stdout",
     "output_type": "stream",
     "text": [
      "ut__upper__28\n",
      "7800\n"
     ]
    },
    {
     "name": "stderr",
     "output_type": "stream",
     "text": [
      "TopologyException: side location conflict at -84.298665 32.999670999999999\n"
     ]
    },
    {
     "name": "stdout",
     "output_type": "stream",
     "text": [
      "ga__upper__16\n"
     ]
    },
    {
     "name": "stderr",
     "output_type": "stream",
     "text": [
      "TopologyException: side location conflict at -84.363215999999994 32.397649000000001\n"
     ]
    },
    {
     "name": "stdout",
     "output_type": "stream",
     "text": [
      "ga__lower__138\n"
     ]
    },
    {
     "name": "stderr",
     "output_type": "stream",
     "text": [
      "TopologyException: side location conflict at -84.298665 32.999670999999999\n"
     ]
    },
    {
     "name": "stdout",
     "output_type": "stream",
     "text": [
      "ga__upper__16\n"
     ]
    },
    {
     "name": "stderr",
     "output_type": "stream",
     "text": [
      "TopologyException: side location conflict at -84.363215999999994 32.397649000000001\n"
     ]
    },
    {
     "name": "stdout",
     "output_type": "stream",
     "text": [
      "ga__lower__138\n"
     ]
    },
    {
     "name": "stderr",
     "output_type": "stream",
     "text": [
      "TopologyException: side location conflict at -84.298665 32.999670999999999\n"
     ]
    },
    {
     "name": "stdout",
     "output_type": "stream",
     "text": [
      "ga__upper__16\n"
     ]
    },
    {
     "name": "stderr",
     "output_type": "stream",
     "text": [
      "TopologyException: side location conflict at -84.363215999999994 32.397649000000001\n"
     ]
    },
    {
     "name": "stdout",
     "output_type": "stream",
     "text": [
      "ga__lower__138\n"
     ]
    },
    {
     "name": "stderr",
     "output_type": "stream",
     "text": [
      "TopologyException: side location conflict at -84.305204000000003 31.691058000000002\n"
     ]
    },
    {
     "name": "stdout",
     "output_type": "stream",
     "text": [
      "ga__upper__12\n"
     ]
    },
    {
     "name": "stderr",
     "output_type": "stream",
     "text": [
      "TopologyException: side location conflict at -84.298665 32.999670999999999\n"
     ]
    },
    {
     "name": "stdout",
     "output_type": "stream",
     "text": [
      "ga__upper__16\n"
     ]
    },
    {
     "name": "stderr",
     "output_type": "stream",
     "text": [
      "TopologyException: side location conflict at -84.298665 32.999670999999999\n"
     ]
    },
    {
     "name": "stdout",
     "output_type": "stream",
     "text": [
      "ga__upper__16\n"
     ]
    },
    {
     "name": "stderr",
     "output_type": "stream",
     "text": [
      "TopologyException: side location conflict at -84.305204000000003 31.691058000000002\n"
     ]
    },
    {
     "name": "stdout",
     "output_type": "stream",
     "text": [
      "ga__lower__151\n"
     ]
    },
    {
     "name": "stderr",
     "output_type": "stream",
     "text": [
      "TopologyException: side location conflict at -84.363215999999994 32.397649000000001\n"
     ]
    },
    {
     "name": "stdout",
     "output_type": "stream",
     "text": [
      "ga__lower__138\n"
     ]
    },
    {
     "name": "stderr",
     "output_type": "stream",
     "text": [
      "TopologyException: side location conflict at -84.305204000000003 31.691058000000002\n"
     ]
    },
    {
     "name": "stdout",
     "output_type": "stream",
     "text": [
      "ga__upper__12\n"
     ]
    },
    {
     "name": "stderr",
     "output_type": "stream",
     "text": [
      "TopologyException: side location conflict at -71.390030999999993 42.365231000000001\n"
     ]
    },
    {
     "name": "stdout",
     "output_type": "stream",
     "text": [
      "ma__upper__Norfolk, Bristol and Middlesex\n"
     ]
    },
    {
     "name": "stderr",
     "output_type": "stream",
     "text": [
      "TopologyException: side location conflict at -71.390030999999993 42.365231000000001\n"
     ]
    },
    {
     "name": "stdout",
     "output_type": "stream",
     "text": [
      "ma__upper__Norfolk, Bristol and Middlesex\n"
     ]
    },
    {
     "name": "stderr",
     "output_type": "stream",
     "text": [
      "TopologyException: side location conflict at -71.390030999999993 42.365231000000001\n"
     ]
    },
    {
     "name": "stdout",
     "output_type": "stream",
     "text": [
      "ma__upper__Norfolk, Bristol and Middlesex\n"
     ]
    },
    {
     "name": "stderr",
     "output_type": "stream",
     "text": [
      "TopologyException: side location conflict at -71.390030999999993 42.365231000000001\n"
     ]
    },
    {
     "name": "stdout",
     "output_type": "stream",
     "text": [
      "ma__upper__Norfolk, Bristol and Middlesex\n"
     ]
    },
    {
     "name": "stderr",
     "output_type": "stream",
     "text": [
      "TopologyException: side location conflict at -71.390030999999993 42.365231000000001\n"
     ]
    },
    {
     "name": "stdout",
     "output_type": "stream",
     "text": [
      "ma__upper__Norfolk, Bristol and Middlesex\n"
     ]
    },
    {
     "name": "stderr",
     "output_type": "stream",
     "text": [
      "TopologyException: side location conflict at -71.390030999999993 42.365231000000001\n"
     ]
    },
    {
     "name": "stdout",
     "output_type": "stream",
     "text": [
      "ma__upper__Norfolk, Bristol and Middlesex\n"
     ]
    },
    {
     "name": "stderr",
     "output_type": "stream",
     "text": [
      "TopologyException: Input geom 1 is invalid: Nested shells at or near point -70.835351000000003 42.483775999999999 at -70.835351000000003 42.483775999999999\n",
      "TopologyException: Input geom 1 is invalid: Nested shells at or near point -70.803523999999996 42.548264000000003 at -70.803523999999996 42.548264000000003\n"
     ]
    },
    {
     "name": "stdout",
     "output_type": "stream",
     "text": [
      "ma__lower__8th Essex\n",
      "ma__lower__6th Essex\n"
     ]
    },
    {
     "name": "stderr",
     "output_type": "stream",
     "text": [
      "TopologyException: side location conflict at -86.149805999999998 34.533633000000002\n",
      "TopologyException: side location conflict at -86.149805999999998 34.533633000000002\n"
     ]
    },
    {
     "name": "stdout",
     "output_type": "stream",
     "text": [
      "al__lower__27\n",
      "al__upper__9\n"
     ]
    },
    {
     "name": "stderr",
     "output_type": "stream",
     "text": [
      "TopologyException: side location conflict at -86.149805999999998 34.533633000000002\n",
      "TopologyException: side location conflict at -86.149805999999998 34.533633000000002\n"
     ]
    },
    {
     "name": "stdout",
     "output_type": "stream",
     "text": [
      "al__lower__27\n",
      "al__upper__9\n"
     ]
    },
    {
     "name": "stderr",
     "output_type": "stream",
     "text": [
      "TopologyException: side location conflict at -86.149805999999998 34.533633000000002\n",
      "TopologyException: side location conflict at -86.149805999999998 34.533633000000002\n"
     ]
    },
    {
     "name": "stdout",
     "output_type": "stream",
     "text": [
      "al__lower__27\n",
      "al__upper__9\n"
     ]
    },
    {
     "name": "stderr",
     "output_type": "stream",
     "text": [
      "TopologyException: side location conflict at -86.149805999999998 34.533633000000002\n",
      "TopologyException: side location conflict at -86.149805999999998 34.533633000000002\n"
     ]
    },
    {
     "name": "stdout",
     "output_type": "stream",
     "text": [
      "al__lower__27\n",
      "al__upper__9\n",
      "6600\n",
      "6600\n"
     ]
    },
    {
     "name": "stderr",
     "output_type": "stream",
     "text": [
      "TopologyException: Input geom 0 is invalid: Nested shells at or near point -93.767683000000005 44.844133999999997 at -93.767683000000005 44.844133999999997\n"
     ]
    },
    {
     "name": "stdout",
     "output_type": "stream",
     "text": [
      "mn__upper__39\n"
     ]
    },
    {
     "name": "stderr",
     "output_type": "stream",
     "text": [
      "TopologyException: Input geom 0 is invalid: Nested shells at or near point -93.767683000000005 44.844133999999997 at -93.767683000000005 44.844133999999997\n"
     ]
    },
    {
     "name": "stdout",
     "output_type": "stream",
     "text": [
      "mn__lower__39A\n"
     ]
    },
    {
     "name": "stderr",
     "output_type": "stream",
     "text": [
      "TopologyException: side location conflict at -86.133230999999995 41.983849999999997\n"
     ]
    },
    {
     "name": "stdout",
     "output_type": "stream",
     "text": [
      "mi__lower__59\n"
     ]
    },
    {
     "name": "stderr",
     "output_type": "stream",
     "text": [
      "TopologyException: side location conflict at -85.179737000000003 42.301378999999997\n"
     ]
    },
    {
     "name": "stdout",
     "output_type": "stream",
     "text": [
      "mi__lower__62\n"
     ]
    },
    {
     "name": "stderr",
     "output_type": "stream",
     "text": [
      "TopologyException: side location conflict at -86.133230999999995 41.983849999999997\n",
      "TopologyException: side location conflict at -85.179737000000003 42.301378999999997\n",
      "TopologyException: side location conflict at -86.133230999999995 41.983849999999997\n"
     ]
    },
    {
     "name": "stdout",
     "output_type": "stream",
     "text": [
      "mi__lower__59\n",
      "mi__lower__62\n",
      "mi__lower__59\n"
     ]
    },
    {
     "name": "stderr",
     "output_type": "stream",
     "text": [
      "TopologyException: side location conflict at -85.179737000000003 42.301378999999997\n"
     ]
    },
    {
     "name": "stdout",
     "output_type": "stream",
     "text": [
      "mi__lower__62\n"
     ]
    },
    {
     "name": "stderr",
     "output_type": "stream",
     "text": [
      "TopologyException: Input geom 0 is invalid: Nested shells at or near point -104.979917 40.029485999999999 at -104.979917 40.029485999999999\n"
     ]
    },
    {
     "name": "stdout",
     "output_type": "stream",
     "text": [
      "co__lower__49\n"
     ]
    },
    {
     "name": "stderr",
     "output_type": "stream",
     "text": [
      "TopologyException: Input geom 1 is invalid: Nested shells at or near point -105.236115 40.365125999999997 at -105.236115 40.365125999999997\n"
     ]
    },
    {
     "name": "stdout",
     "output_type": "stream",
     "text": [
      "co__lower__49\n"
     ]
    },
    {
     "name": "stderr",
     "output_type": "stream",
     "text": [
      "TopologyException: Input geom 0 is invalid: Nested shells at or near point -104.979917 40.029485999999999 at -104.979917 40.029485999999999\n"
     ]
    },
    {
     "name": "stdout",
     "output_type": "stream",
     "text": [
      "co__lower__49\n"
     ]
    },
    {
     "name": "stderr",
     "output_type": "stream",
     "text": [
      "TopologyException: side location conflict at -122.483361 38.302686999999999\n"
     ]
    },
    {
     "name": "stdout",
     "output_type": "stream",
     "text": [
      "ca__upper__3\n"
     ]
    },
    {
     "name": "stderr",
     "output_type": "stream",
     "text": [
      "TopologyException: side location conflict at -122.483361 38.302686999999999\n"
     ]
    },
    {
     "name": "stdout",
     "output_type": "stream",
     "text": [
      "ca__upper__3\n"
     ]
    },
    {
     "name": "stderr",
     "output_type": "stream",
     "text": [
      "TopologyException: side location conflict at -122.483361 38.302686999999999\n"
     ]
    },
    {
     "name": "stdout",
     "output_type": "stream",
     "text": [
      "ca__upper__3\n"
     ]
    },
    {
     "name": "stderr",
     "output_type": "stream",
     "text": [
      "TopologyException: side location conflict at -122.483361 38.302686999999999\n"
     ]
    },
    {
     "name": "stdout",
     "output_type": "stream",
     "text": [
      "ca__upper__3\n"
     ]
    },
    {
     "name": "stderr",
     "output_type": "stream",
     "text": [
      "TopologyException: side location conflict at -122.483361 38.302686999999999\n"
     ]
    },
    {
     "name": "stdout",
     "output_type": "stream",
     "text": [
      "ca__upper__3\n"
     ]
    },
    {
     "name": "stderr",
     "output_type": "stream",
     "text": [
      "TopologyException: side location conflict at -122.483361 38.302686999999999\n"
     ]
    },
    {
     "name": "stdout",
     "output_type": "stream",
     "text": [
      "ca__upper__3\n"
     ]
    },
    {
     "name": "stderr",
     "output_type": "stream",
     "text": [
      "TopologyException: side location conflict at -122.483361 38.302686999999999\n"
     ]
    },
    {
     "name": "stdout",
     "output_type": "stream",
     "text": [
      "ca__upper__3\n"
     ]
    },
    {
     "name": "stderr",
     "output_type": "stream",
     "text": [
      "TopologyException: side location conflict at -122.483361 38.302686999999999\n"
     ]
    },
    {
     "name": "stdout",
     "output_type": "stream",
     "text": [
      "ca__upper__3\n"
     ]
    },
    {
     "name": "stderr",
     "output_type": "stream",
     "text": [
      "TopologyException: side location conflict at -122.483361 38.302686999999999\n"
     ]
    },
    {
     "name": "stdout",
     "output_type": "stream",
     "text": [
      "ca__upper__3\n"
     ]
    },
    {
     "name": "stderr",
     "output_type": "stream",
     "text": [
      "TopologyException: side location conflict at -122.483361 38.302686999999999\n"
     ]
    },
    {
     "name": "stdout",
     "output_type": "stream",
     "text": [
      "ca__upper__3\n"
     ]
    },
    {
     "name": "stderr",
     "output_type": "stream",
     "text": [
      "TopologyException: side location conflict at -122.483361 38.302686999999999\n"
     ]
    },
    {
     "name": "stdout",
     "output_type": "stream",
     "text": [
      "ca__upper__3\n"
     ]
    },
    {
     "name": "stderr",
     "output_type": "stream",
     "text": [
      "TopologyException: side location conflict at -110.782425 43.469070000000002\n",
      "TopologyException: side location conflict at -110.782425 43.469070000000002\n"
     ]
    },
    {
     "name": "stdout",
     "output_type": "stream",
     "text": [
      "wy__lower__23\n",
      "wy__lower__16\n"
     ]
    },
    {
     "name": "stderr",
     "output_type": "stream",
     "text": [
      "TopologyException: side location conflict at -95.946943000000005 31.297908\n",
      "TopologyException: side location conflict at -95.946943000000005 31.297908\n",
      "TopologyException: side location conflict at -95.946943000000005 31.297908\n",
      "TopologyException: side location conflict at -95.946943000000005 31.297908\n",
      "TopologyException: side location conflict at -95.946943000000005 31.297908\n",
      "TopologyException: side location conflict at -95.946943000000005 31.297908\n",
      "TopologyException: side location conflict at -95.946943000000005 31.297908\n",
      "TopologyException: side location conflict at -95.946943000000005 31.297908\n",
      "TopologyException: side location conflict at -95.946943000000005 31.297908\n",
      "TopologyException: side location conflict at -95.946943000000005 31.297908\n"
     ]
    },
    {
     "name": "stdout",
     "output_type": "stream",
     "text": [
      "tx__lower__3\n",
      "tx__lower__13\n",
      "tx__lower__136\n",
      "tx__lower__47\n",
      "tx__lower__57\n",
      "tx__upper__24\n",
      "tx__lower__56\n",
      "tx__lower__46\n",
      "tx__upper__25\n",
      "tx__lower__12\n"
     ]
    },
    {
     "name": "stderr",
     "output_type": "stream",
     "text": [
      "TopologyException: side location conflict at -95.946943000000005 31.297908\n",
      "TopologyException: side location conflict at -95.946943000000005 31.297908\n",
      "TopologyException: side location conflict at -95.946943000000005 31.297908\n",
      "TopologyException: side location conflict at -95.946943000000005 31.297908\n"
     ]
    },
    {
     "name": "stdout",
     "output_type": "stream",
     "text": [
      "tx__upper__3\n",
      "tx__lower__60\n",
      "tx__upper__18\n",
      "tx__lower__54\n"
     ]
    },
    {
     "name": "stderr",
     "output_type": "stream",
     "text": [
      "TopologyException: side location conflict at -95.946943000000005 31.297908\n",
      "TopologyException: side location conflict at -95.946943000000005 31.297908\n",
      "TopologyException: side location conflict at -95.946943000000005 31.297908\n"
     ]
    },
    {
     "name": "stdout",
     "output_type": "stream",
     "text": [
      "tx__upper__1\n",
      "tx__lower__8\n",
      "tx__lower__18\n"
     ]
    },
    {
     "name": "stderr",
     "output_type": "stream",
     "text": [
      "TopologyException: side location conflict at -95.946943000000005 31.297908\n",
      "TopologyException: side location conflict at -95.946943000000005 31.297908\n",
      "TopologyException: side location conflict at -95.946943000000005 31.297908\n",
      "TopologyException: side location conflict at -95.946943000000005 31.297908\n",
      "TopologyException: side location conflict at -95.946943000000005 31.297908\n",
      "TopologyException: side location conflict at -95.946943000000005 31.297908\n",
      "TopologyException: side location conflict at -95.946943000000005 31.297908\n",
      "TopologyException: side location conflict at -95.946943000000005 31.297908\n",
      "TopologyException: side location conflict at -95.946943000000005 31.297908\n",
      "TopologyException: side location conflict at -95.946943000000005 31.297908\n",
      "TopologyException: side location conflict at -95.946943000000005 31.297908\n",
      "TopologyException: side location conflict at -95.946943000000005 31.297908\n",
      "TopologyException: side location conflict at -95.946943000000005 31.297908\n"
     ]
    },
    {
     "name": "stdout",
     "output_type": "stream",
     "text": [
      "tx__lower__55\n",
      "tx__lower__45\n",
      "tx__lower__50\n",
      "tx__lower__59\n",
      "tx__lower__49\n",
      "tx__lower__4\n",
      "tx__lower__14\n",
      "tx__upper__5\n",
      "tx__lower__48\n",
      "tx__lower__58\n",
      "tx__upper__14\n",
      "tx__upper__4\n",
      "tx__upper__22\n"
     ]
    },
    {
     "name": "stderr",
     "output_type": "stream",
     "text": [
      "TopologyException: side location conflict at -95.946943000000005 31.297908\n",
      "TopologyException: side location conflict at -95.946943000000005 31.297908\n",
      "TopologyException: side location conflict at -95.946943000000005 31.297908\n"
     ]
    },
    {
     "name": "stdout",
     "output_type": "stream",
     "text": [
      "tx__lower__17\n",
      "tx__upper__30\n",
      "tx__lower__52\n"
     ]
    },
    {
     "name": "stderr",
     "output_type": "stream",
     "text": [
      "TopologyException: side location conflict at -95.946943000000005 31.297908\n",
      "TopologyException: side location conflict at -95.946943000000005 31.297908\n"
     ]
    },
    {
     "name": "stdout",
     "output_type": "stream",
     "text": [
      "tx__lower__20\n",
      "tx__lower__16\n",
      "7200\n"
     ]
    },
    {
     "name": "stderr",
     "output_type": "stream",
     "text": [
      "TopologyException: Input geom 0 is invalid: Nested shells at or near point -74.568185 40.900328999999999 at -74.568185 40.900328999999999\n",
      "TopologyException: Input geom 0 is invalid: Nested shells at or near point -74.568185 40.900328999999999 at -74.568185 40.900328999999999\n",
      "TopologyException: Input geom 0 is invalid: Nested shells at or near point -74.568185 40.900328999999999 at -74.568185 40.900328999999999\n",
      "TopologyException: Input geom 0 is invalid: Nested shells at or near point -74.568185 40.900328999999999 at -74.568185 40.900328999999999\n"
     ]
    },
    {
     "name": "stdout",
     "output_type": "stream",
     "text": [
      "nj__upper__26\n",
      "nj__lower__26\n",
      "nj__lower__26\n",
      "nj__upper__25\n"
     ]
    },
    {
     "name": "stderr",
     "output_type": "stream",
     "text": [
      "TopologyException: Input geom 0 is invalid: Nested shells at or near point -74.568185 40.900328999999999 at -74.568185 40.900328999999999\n",
      "TopologyException: Input geom 0 is invalid: Nested shells at or near point -74.568185 40.900328999999999 at -74.568185 40.900328999999999\n"
     ]
    },
    {
     "name": "stdout",
     "output_type": "stream",
     "text": [
      "nj__lower__25\n",
      "nj__lower__25\n"
     ]
    },
    {
     "name": "stderr",
     "output_type": "stream",
     "text": [
      "TopologyException: Input geom 0 is invalid: Nested shells at or near point -74.568185 40.900328999999999 at -74.568185 40.900328999999999\n",
      "TopologyException: Input geom 0 is invalid: Nested shells at or near point -74.568185 40.900328999999999 at -74.568185 40.900328999999999\n",
      "TopologyException: Input geom 0 is invalid: Nested shells at or near point -74.568185 40.900328999999999 at -74.568185 40.900328999999999\n"
     ]
    },
    {
     "name": "stdout",
     "output_type": "stream",
     "text": [
      "nj__upper__26\n",
      "nj__lower__26\n",
      "nj__lower__26\n"
     ]
    },
    {
     "name": "stderr",
     "output_type": "stream",
     "text": [
      "TopologyException: Input geom 0 is invalid: Nested shells at or near point -74.568185 40.900328999999999 at -74.568185 40.900328999999999\n",
      "TopologyException: Input geom 0 is invalid: Nested shells at or near point -74.568185 40.900328999999999 at -74.568185 40.900328999999999\n",
      "TopologyException: Input geom 0 is invalid: Nested shells at or near point -74.568185 40.900328999999999 at -74.568185 40.900328999999999\n"
     ]
    },
    {
     "name": "stdout",
     "output_type": "stream",
     "text": [
      "nj__upper__25\n",
      "nj__lower__25\n",
      "nj__lower__25\n",
      "6900\n",
      "1100\n"
     ]
    },
    {
     "name": "stderr",
     "output_type": "stream",
     "text": [
      "TopologyException: side location conflict at -94.719454999999996 37.839829999999999\n"
     ]
    },
    {
     "name": "stdout",
     "output_type": "stream",
     "text": [
      "ks__upper__12\n"
     ]
    },
    {
     "name": "stderr",
     "output_type": "stream",
     "text": [
      "TopologyException: side location conflict at -94.719454999999996 37.839829999999999\n"
     ]
    },
    {
     "name": "stdout",
     "output_type": "stream",
     "text": [
      "ks__upper__12\n"
     ]
    },
    {
     "name": "stderr",
     "output_type": "stream",
     "text": [
      "TopologyException: side location conflict at -94.719454999999996 37.839829999999999\n"
     ]
    },
    {
     "name": "stdout",
     "output_type": "stream",
     "text": [
      "ks__upper__12\n"
     ]
    },
    {
     "name": "stderr",
     "output_type": "stream",
     "text": [
      "TopologyException: side location conflict at -94.719454999999996 37.839829999999999\n"
     ]
    },
    {
     "name": "stdout",
     "output_type": "stream",
     "text": [
      "ks__upper__12\n",
      "6000\n"
     ]
    },
    {
     "name": "stderr",
     "output_type": "stream",
     "text": [
      "TopologyException: side location conflict at -82.056364000000002 41.264263\n"
     ]
    },
    {
     "name": "stdout",
     "output_type": "stream",
     "text": [
      "oh__lower__57\n"
     ]
    },
    {
     "name": "stderr",
     "output_type": "stream",
     "text": [
      "TopologyException: side location conflict at -82.056364000000002 41.264263\n"
     ]
    },
    {
     "name": "stdout",
     "output_type": "stream",
     "text": [
      "oh__lower__57\n"
     ]
    },
    {
     "name": "stderr",
     "output_type": "stream",
     "text": [
      "TopologyException: side location conflict at -82.056364000000002 41.264263\n"
     ]
    },
    {
     "name": "stdout",
     "output_type": "stream",
     "text": [
      "oh__lower__57\n"
     ]
    },
    {
     "name": "stderr",
     "output_type": "stream",
     "text": [
      "TopologyException: side location conflict at -82.056364000000002 41.264263\n"
     ]
    },
    {
     "name": "stdout",
     "output_type": "stream",
     "text": [
      "oh__lower__57\n"
     ]
    },
    {
     "name": "stderr",
     "output_type": "stream",
     "text": [
      "TopologyException: side location conflict at -82.056364000000002 41.264263\n"
     ]
    },
    {
     "name": "stdout",
     "output_type": "stream",
     "text": [
      "oh__lower__57\n"
     ]
    },
    {
     "name": "stderr",
     "output_type": "stream",
     "text": [
      "TopologyException: side location conflict at -82.056364000000002 41.264263\n"
     ]
    },
    {
     "name": "stdout",
     "output_type": "stream",
     "text": [
      "oh__lower__57\n"
     ]
    },
    {
     "name": "stderr",
     "output_type": "stream",
     "text": [
      "TopologyException: side location conflict at -88.223349999999996 43.159122000000004\n",
      "TopologyException: side location conflict at -88.408261999999993 43.339799999999997\n",
      "TopologyException: side location conflict at -88.152006999999998 43.330927000000003\n"
     ]
    },
    {
     "name": "stdout",
     "output_type": "stream",
     "text": [
      "wi__lower__22\n",
      "wi__upper__20\n",
      "wi__lower__60\n"
     ]
    },
    {
     "name": "stderr",
     "output_type": "stream",
     "text": [
      "TopologyException: side location conflict at -88.223349999999996 43.159122000000004\n",
      "TopologyException: side location conflict at -89.784210999999999 43.635190000000001\n",
      "TopologyException: side location conflict at -89.784210999999999 43.635190000000001\n",
      "TopologyException: side location conflict at -88.408261999999993 43.339799999999997\n",
      "TopologyException: side location conflict at -88.723868999999993 44.385603000000003\n"
     ]
    },
    {
     "name": "stdout",
     "output_type": "stream",
     "text": [
      "wi__upper__8\n",
      "wi__lower__41\n",
      "wi__upper__14\n",
      "wi__lower__59\n",
      "wi__lower__6\n"
     ]
    },
    {
     "name": "stderr",
     "output_type": "stream",
     "text": [
      "TopologyException: side location conflict at -88.408261999999993 43.339799999999997\n",
      "TopologyException: Input geom 1 is invalid: Nested shells at or near point -91.561680999999993 45.207023 at -91.561680999999993 45.207023\n"
     ]
    },
    {
     "name": "stdout",
     "output_type": "stream",
     "text": [
      "wi__upper__20\n",
      "wi__upper__25\n"
     ]
    },
    {
     "name": "stderr",
     "output_type": "stream",
     "text": [
      "TopologyException: side location conflict at -88.723868999999993 44.385603000000003\n"
     ]
    },
    {
     "name": "stdout",
     "output_type": "stream",
     "text": [
      "wi__upper__2\n"
     ]
    },
    {
     "name": "stderr",
     "output_type": "stream",
     "text": [
      "TopologyException: side location conflict at -88.827105000000003 42.913214000000004\n",
      "TopologyException: Input geom 1 is invalid: Nested shells at or near point -87.949712000000005 42.604084 at -87.949712000000005 42.604084\n"
     ]
    },
    {
     "name": "stdout",
     "output_type": "stream",
     "text": [
      "wi__lower__33\n",
      "wi__upper__21\n"
     ]
    },
    {
     "name": "stderr",
     "output_type": "stream",
     "text": [
      "TopologyException: side location conflict at -88.827105000000003 42.913214000000004\n",
      "TopologyException: Input geom 1 is invalid: Nested shells at or near point -89.068507999999994 42.686875000000001 at -89.068507999999994 42.686875000000001\n",
      "TopologyException: side location conflict at -88.827105000000003 42.913214000000004\n",
      "TopologyException: Input geom 1 is invalid: Nested shells at or near point -87.949712000000005 42.604084 at -87.949712000000005 42.604084\n"
     ]
    },
    {
     "name": "stdout",
     "output_type": "stream",
     "text": [
      "wi__upper__11\n",
      "wi__lower__44\n",
      "wi__lower__33\n",
      "wi__upper__21\n"
     ]
    },
    {
     "name": "stderr",
     "output_type": "stream",
     "text": [
      "TopologyException: side location conflict at -88.827105000000003 42.913214000000004\n",
      "TopologyException: Input geom 1 is invalid: Nested shells at or near point -89.068507999999994 42.686875000000001 at -89.068507999999994 42.686875000000001\n",
      "TopologyException: side location conflict at -88.827105000000003 42.913214000000004\n",
      "TopologyException: side location conflict at -89.784210999999999 43.635190000000001\n",
      "TopologyException: side location conflict at -88.408261999999993 43.339799999999997\n",
      "TopologyException: side location conflict at -88.223349999999996 43.159122000000004\n"
     ]
    },
    {
     "name": "stdout",
     "output_type": "stream",
     "text": [
      "wi__upper__11\n",
      "wi__lower__44\n",
      "wi__lower__33\n",
      "wi__upper__14\n",
      "wi__lower__59\n",
      "wi__lower__22\n"
     ]
    },
    {
     "name": "stderr",
     "output_type": "stream",
     "text": [
      "TopologyException: side location conflict at -88.408261999999993 43.339799999999997\n",
      "TopologyException: Input geom 1 is invalid: Nested shells at or near point -89.011965000000004 43.004610999999997 at -89.011965000000004 43.004610999999997\n",
      "TopologyException: side location conflict at -88.152006999999998 43.330927000000003\n"
     ]
    },
    {
     "name": "stdout",
     "output_type": "stream",
     "text": [
      "wi__upper__20\n",
      "wi__upper__13\n",
      "wi__lower__60\n"
     ]
    },
    {
     "name": "stderr",
     "output_type": "stream",
     "text": [
      "TopologyException: Input geom 1 is invalid: Nested shells at or near point -89.009970999999993 43.324615999999999 at -89.009970999999993 43.324615999999999\n",
      "TopologyException: side location conflict at -88.827105000000003 42.913214000000004\n",
      "TopologyException: side location conflict at -88.223349999999996 43.159122000000004\n",
      "TopologyException: side location conflict at -88.827105000000003 42.913214000000004\n",
      "TopologyException: side location conflict at -89.784210999999999 43.635190000000001\n",
      "TopologyException: side location conflict at -89.784210999999999 43.635190000000001\n"
     ]
    },
    {
     "name": "stdout",
     "output_type": "stream",
     "text": [
      "wi__lower__37\n",
      "wi__upper__11\n",
      "wi__upper__8\n",
      "wi__lower__33\n",
      "wi__lower__41\n",
      "wi__upper__14\n"
     ]
    },
    {
     "name": "stderr",
     "output_type": "stream",
     "text": [
      "TopologyException: side location conflict at -89.669916000000001 43.111677\n"
     ]
    },
    {
     "name": "stdout",
     "output_type": "stream",
     "text": [
      "wi__lower__80\n"
     ]
    },
    {
     "name": "stderr",
     "output_type": "stream",
     "text": [
      "TopologyException: side location conflict at -88.827105000000003 42.913214000000004\n",
      "TopologyException: Input geom 1 is invalid: Nested shells at or near point -89.068507999999994 42.686875000000001 at -89.068507999999994 42.686875000000001\n",
      "TopologyException: side location conflict at -89.784210999999999 43.635190000000001\n"
     ]
    },
    {
     "name": "stdout",
     "output_type": "stream",
     "text": [
      "wi__upper__11\n",
      "wi__lower__44\n",
      "wi__lower__41\n"
     ]
    },
    {
     "name": "stderr",
     "output_type": "stream",
     "text": [
      "TopologyException: side location conflict at -89.784210999999999 43.635190000000001\n",
      "TopologyException: side location conflict at -88.408261999999993 43.339799999999997\n",
      "TopologyException: side location conflict at -88.723868999999993 44.385603000000003\n",
      "TopologyException: side location conflict at -88.408261999999993 43.339799999999997\n"
     ]
    },
    {
     "name": "stdout",
     "output_type": "stream",
     "text": [
      "wi__upper__14\n",
      "wi__lower__59\n",
      "wi__lower__6\n",
      "wi__upper__20\n"
     ]
    },
    {
     "name": "stderr",
     "output_type": "stream",
     "text": [
      "TopologyException: side location conflict at -88.723868999999993 44.385603000000003\n"
     ]
    },
    {
     "name": "stdout",
     "output_type": "stream",
     "text": [
      "wi__upper__2\n"
     ]
    },
    {
     "name": "stderr",
     "output_type": "stream",
     "text": [
      "TopologyException: side location conflict at -89.784210999999999 43.635190000000001\n",
      "TopologyException: side location conflict at -89.784210999999999 43.635190000000001\n",
      "TopologyException: side location conflict at -89.669916000000001 43.111677\n",
      "TopologyException: side location conflict at -88.723868999999993 44.385603000000003\n"
     ]
    },
    {
     "name": "stdout",
     "output_type": "stream",
     "text": [
      "wi__lower__41\n",
      "wi__upper__14\n",
      "wi__lower__80\n",
      "wi__lower__6\n"
     ]
    },
    {
     "name": "stderr",
     "output_type": "stream",
     "text": [
      "TopologyException: side location conflict at -88.723868999999993 44.385603000000003\n",
      "TopologyException: side location conflict at -89.784210999999999 43.635190000000001\n",
      "TopologyException: side location conflict at -89.784210999999999 43.635190000000001\n",
      "TopologyException: side location conflict at -88.408261999999993 43.339799999999997\n"
     ]
    },
    {
     "name": "stdout",
     "output_type": "stream",
     "text": [
      "wi__upper__2\n",
      "wi__lower__41\n",
      "wi__upper__14\n",
      "wi__lower__59\n"
     ]
    },
    {
     "name": "stderr",
     "output_type": "stream",
     "text": [
      "TopologyException: side location conflict at -88.223349999999996 43.159122000000004\n",
      "TopologyException: side location conflict at -88.723868999999993 44.385603000000003\n",
      "TopologyException: side location conflict at -88.408261999999993 43.339799999999997\n",
      "TopologyException: Input geom 1 is invalid: Nested shells at or near point -89.011965000000004 43.004610999999997 at -89.011965000000004 43.004610999999997\n",
      "TopologyException: side location conflict at -88.152006999999998 43.330927000000003\n"
     ]
    },
    {
     "name": "stdout",
     "output_type": "stream",
     "text": [
      "wi__lower__22\n",
      "wi__lower__6\n",
      "wi__upper__20\n",
      "wi__upper__13\n",
      "wi__lower__60\n"
     ]
    },
    {
     "name": "stderr",
     "output_type": "stream",
     "text": [
      "TopologyException: side location conflict at -88.723868999999993 44.385603000000003\n",
      "TopologyException: Input geom 1 is invalid: Nested shells at or near point -89.009970999999993 43.324615999999999 at -89.009970999999993 43.324615999999999\n",
      "TopologyException: side location conflict at -88.223349999999996 43.159122000000004\n",
      "TopologyException: side location conflict at -89.784210999999999 43.635190000000001\n"
     ]
    },
    {
     "name": "stdout",
     "output_type": "stream",
     "text": [
      "wi__upper__2\n",
      "wi__lower__37\n",
      "wi__upper__8\n",
      "wi__lower__41\n"
     ]
    },
    {
     "name": "stderr",
     "output_type": "stream",
     "text": [
      "TopologyException: side location conflict at -89.784210999999999 43.635190000000001\n",
      "TopologyException: side location conflict at -88.408261999999993 43.339799999999997\n",
      "TopologyException: side location conflict at -88.723868999999993 44.385603000000003\n"
     ]
    },
    {
     "name": "stdout",
     "output_type": "stream",
     "text": [
      "wi__upper__14\n",
      "wi__lower__59\n",
      "wi__lower__6\n"
     ]
    },
    {
     "name": "stderr",
     "output_type": "stream",
     "text": [
      "TopologyException: side location conflict at -88.408261999999993 43.339799999999997\n",
      "TopologyException: Input geom 1 is invalid: Nested shells at or near point -91.561680999999993 45.207023 at -91.561680999999993 45.207023\n"
     ]
    },
    {
     "name": "stdout",
     "output_type": "stream",
     "text": [
      "wi__upper__20\n",
      "wi__upper__25\n"
     ]
    },
    {
     "name": "stderr",
     "output_type": "stream",
     "text": [
      "TopologyException: side location conflict at -88.723868999999993 44.385603000000003\n"
     ]
    },
    {
     "name": "stdout",
     "output_type": "stream",
     "text": [
      "wi__upper__2\n"
     ]
    },
    {
     "name": "stderr",
     "output_type": "stream",
     "text": [
      "TopologyException: side location conflict at -84.539963 35.670465\n"
     ]
    },
    {
     "name": "stdout",
     "output_type": "stream",
     "text": [
      "tn__lower__32\n"
     ]
    },
    {
     "name": "stderr",
     "output_type": "stream",
     "text": [
      "TopologyException: Input geom 0 is invalid: Nested shells at or near point -86.523452000000006 36.137462999999997 at -86.523452000000006 36.137462999999997\n",
      "TopologyException: Input geom 0 is invalid: Nested shells at or near point -86.523452000000006 36.137462999999997 at -86.523452000000006 36.137462999999997\n",
      "TopologyException: side location conflict at -84.539963 35.670465\n"
     ]
    },
    {
     "name": "stdout",
     "output_type": "stream",
     "text": [
      "tn__upper__18\n",
      "tn__lower__25\n",
      "tn__upper__12\n"
     ]
    },
    {
     "name": "stderr",
     "output_type": "stream",
     "text": [
      "TopologyException: Input geom 0 is invalid: Nested shells at or near point -86.523452000000006 36.137462999999997 at -86.523452000000006 36.137462999999997\n"
     ]
    },
    {
     "name": "stdout",
     "output_type": "stream",
     "text": [
      "tn__lower__60\n"
     ]
    },
    {
     "name": "stderr",
     "output_type": "stream",
     "text": [
      "TopologyException: side location conflict at -84.539963 35.670465\n",
      "TopologyException: side location conflict at -84.539963 35.670465\n",
      "TopologyException: side location conflict at -84.539963 35.670465\n",
      "TopologyException: side location conflict at -84.539963 35.670465\n",
      "TopologyException: side location conflict at -84.539963 35.670465\n",
      "TopologyException: side location conflict at -84.539963 35.670465\n"
     ]
    },
    {
     "name": "stdout",
     "output_type": "stream",
     "text": [
      "tn__lower__43\n",
      "tn__lower__21\n",
      "tn__lower__31\n",
      "tn__upper__6\n",
      "tn__upper__16\n",
      "tn__lower__17\n"
     ]
    },
    {
     "name": "stderr",
     "output_type": "stream",
     "text": [
      "TopologyException: side location conflict at -84.539963 35.670465\n",
      "TopologyException: side location conflict at -84.539963 35.670465\n",
      "TopologyException: side location conflict at -84.539963 35.670465\n",
      "TopologyException: side location conflict at -84.539963 35.670465\n",
      "TopologyException: side location conflict at -84.539963 35.670465\n",
      "TopologyException: side location conflict at -84.539963 35.670465\n",
      "TopologyException: side location conflict at -84.539963 35.670465\n",
      "TopologyException: side location conflict at -84.539963 35.670465\n",
      "TopologyException: side location conflict at -84.539963 35.670465\n",
      "TopologyException: side location conflict at -84.539963 35.670465\n",
      "TopologyException: side location conflict at -84.539963 35.670465\n",
      "TopologyException: side location conflict at -84.539963 35.670465\n",
      "TopologyException: side location conflict at -84.539963 35.670465\n",
      "TopologyException: side location conflict at -84.539963 35.670465\n",
      "TopologyException: side location conflict at -84.539963 35.670465\n",
      "TopologyException: side location conflict at -84.539963 35.670465\n",
      "TopologyException: side location conflict at -84.539963 35.670465\n",
      "TopologyException: side location conflict at -84.539963 35.670465\n"
     ]
    },
    {
     "name": "stdout",
     "output_type": "stream",
     "text": [
      "tn__lower__38\n",
      "tn__lower__28\n",
      "tn__lower__16\n",
      "tn__upper__17\n",
      "tn__upper__7\n",
      "tn__lower__29\n",
      "tn__lower__39\n",
      "tn__lower__42\n",
      "tn__lower__30\n",
      "tn__lower__20\n",
      "tn__lower__89\n",
      "tn__upper__5\n",
      "tn__upper__15\n",
      "tn__lower__14\n",
      "tn__lower__22\n",
      "tn__lower__32\n",
      "tn__lower__33\n",
      "tn__lower__23\n"
     ]
    },
    {
     "name": "stderr",
     "output_type": "stream",
     "text": [
      "TopologyException: side location conflict at -84.539963 35.670465\n",
      "TopologyException: side location conflict at -84.539963 35.670465\n",
      "TopologyException: side location conflict at -84.539963 35.670465\n",
      "TopologyException: side location conflict at -84.539963 35.670465\n",
      "TopologyException: side location conflict at -84.539963 35.670465\n",
      "TopologyException: side location conflict at -84.539963 35.670465\n",
      "TopologyException: side location conflict at -84.539963 35.670465\n",
      "TopologyException: side location conflict at -84.539963 35.670465\n",
      "TopologyException: side location conflict at -84.539963 35.670465\n",
      "TopologyException: side location conflict at -84.539963 35.670465\n",
      "TopologyException: side location conflict at -84.539963 35.670465\n",
      "TopologyException: side location conflict at -84.539963 35.670465\n",
      "TopologyException: side location conflict at -84.539963 35.670465\n"
     ]
    },
    {
     "name": "stdout",
     "output_type": "stream",
     "text": [
      "tn__lower__41\n",
      "tn__lower__15\n",
      "tn__upper__1\n",
      "tn__upper__11\n",
      "tn__lower__26\n",
      "tn__lower__36\n",
      "tn__lower__19\n",
      "tn__upper__8\n",
      "tn__lower__27\n",
      "tn__upper__9\n",
      "tn__lower__8\n",
      "tn__lower__18\n",
      "tn__upper__10\n"
     ]
    },
    {
     "name": "stderr",
     "output_type": "stream",
     "text": [
      "TopologyException: side location conflict at -84.539963 35.670465\n",
      "TopologyException: side location conflict at -84.539963 35.670465\n",
      "TopologyException: side location conflict at -84.539963 35.670465\n",
      "TopologyException: side location conflict at -84.539963 35.670465\n",
      "TopologyException: side location conflict at -84.539963 35.670465\n",
      "TopologyException: side location conflict at -84.539963 35.670465\n",
      "TopologyException: side location conflict at -84.539963 35.670465\n"
     ]
    },
    {
     "name": "stdout",
     "output_type": "stream",
     "text": [
      "tn__lower__25\n",
      "tn__lower__35\n",
      "tn__lower__13\n",
      "tn__upper__2\n",
      "tn__upper__12\n",
      "tn__lower__12\n",
      "tn__lower__24\n"
     ]
    },
    {
     "name": "stderr",
     "output_type": "stream",
     "text": [
      "TopologyException: side location conflict at -84.539963 35.670465\n"
     ]
    },
    {
     "name": "stdout",
     "output_type": "stream",
     "text": [
      "tn__lower__32\n"
     ]
    },
    {
     "name": "stderr",
     "output_type": "stream",
     "text": [
      "TopologyException: side location conflict at -84.539963 35.670465\n"
     ]
    },
    {
     "name": "stdout",
     "output_type": "stream",
     "text": [
      "tn__upper__12\n"
     ]
    },
    {
     "name": "stderr",
     "output_type": "stream",
     "text": [
      "TopologyException: side location conflict at -84.539963 35.670465\n"
     ]
    },
    {
     "name": "stdout",
     "output_type": "stream",
     "text": [
      "tn__lower__32\n"
     ]
    },
    {
     "name": "stderr",
     "output_type": "stream",
     "text": [
      "TopologyException: side location conflict at -84.539963 35.670465\n"
     ]
    },
    {
     "name": "stdout",
     "output_type": "stream",
     "text": [
      "tn__upper__12\n"
     ]
    },
    {
     "name": "stderr",
     "output_type": "stream",
     "text": [
      "TopologyException: side location conflict at -84.539963 35.670465\n",
      "TopologyException: Input geom 0 is invalid: Nested shells at or near point -86.523452000000006 36.137462999999997 at -86.523452000000006 36.137462999999997\n"
     ]
    },
    {
     "name": "stdout",
     "output_type": "stream",
     "text": [
      "tn__lower__32\n",
      "tn__upper__18\n"
     ]
    },
    {
     "name": "stderr",
     "output_type": "stream",
     "text": [
      "TopologyException: Input geom 0 is invalid: Nested shells at or near point -86.523452000000006 36.137462999999997 at -86.523452000000006 36.137462999999997\n",
      "TopologyException: side location conflict at -84.539963 35.670465\n",
      "TopologyException: Input geom 0 is invalid: Nested shells at or near point -86.523452000000006 36.137462999999997 at -86.523452000000006 36.137462999999997\n"
     ]
    },
    {
     "name": "stdout",
     "output_type": "stream",
     "text": [
      "tn__lower__25\n",
      "tn__upper__12\n",
      "tn__lower__60\n"
     ]
    },
    {
     "name": "stderr",
     "output_type": "stream",
     "text": [
      "TopologyException: side location conflict at -84.539963 35.670465\n"
     ]
    },
    {
     "name": "stdout",
     "output_type": "stream",
     "text": [
      "tn__lower__32\n"
     ]
    },
    {
     "name": "stderr",
     "output_type": "stream",
     "text": [
      "TopologyException: Input geom 1 is invalid: Nested shells at or near point -85.274319000000006 35.784433 at -85.274319000000006 35.784433\n",
      "TopologyException: side location conflict at -84.539963 35.670465\n"
     ]
    },
    {
     "name": "stdout",
     "output_type": "stream",
     "text": [
      "tn__lower__25\n",
      "tn__upper__12\n"
     ]
    }
   ],
   "source": [
    "records = {}\n",
    "\n",
    "\n",
    "for index, congress_person in congress_df.iterrows():\n",
    "    state = congress_person['state'].lower()\n",
    "    congressional_district = congress_person['congressional_district']\n",
    "    records[congressional_district] = []\n",
    "    \n",
    "    state_subset_df = state_df[state_df.state == state]\n",
    "    try:\n",
    "        map_obj = get_polygon(json.loads(congress_person['geometry']))\n",
    "    except:\n",
    "        print(congressional_district)\n",
    "        pass\n",
    "    for index, state_person in state_subset_df.iterrows():\n",
    "        state_map_obj = get_polygon(json.loads(state_person['geometry']))\n",
    "        oen_district = state_person['oen_district']\n",
    "        try:\n",
    "            if map_obj.intersects(state_map_obj): \n",
    "                if map_obj.intersection(state_map_obj).area> 0.001:\n",
    "                    records[congressional_district].append(oen_district)\n",
    "        except:\n",
    "            print(oen_district)"
   ]
  },
  {
   "cell_type": "code",
   "execution_count": 72,
   "metadata": {},
   "outputs": [],
   "source": [
    "records_list = []\n",
    "\n",
    "for k, v in records.items():\n",
    "    records_list.append([k, \", \".join(v)])"
   ]
  },
  {
   "cell_type": "code",
   "execution_count": 73,
   "metadata": {},
   "outputs": [],
   "source": [
    "df = pd.DataFrame.from_records(records_list, columns=['congressional_district', 'overlapping_oen_district'])"
   ]
  },
  {
   "cell_type": "code",
   "execution_count": 74,
   "metadata": {},
   "outputs": [],
   "source": [
    "df.to_csv('../../data/overlapping.csv')"
   ]
  },
  {
   "cell_type": "code",
   "execution_count": null,
   "metadata": {},
   "outputs": [],
   "source": []
  }
 ],
 "metadata": {
  "kernelspec": {
   "display_name": "Python 3",
   "language": "python",
   "name": "python3"
  },
  "language_info": {
   "codemirror_mode": {
    "name": "ipython",
    "version": 3
   },
   "file_extension": ".py",
   "mimetype": "text/x-python",
   "name": "python",
   "nbconvert_exporter": "python",
   "pygments_lexer": "ipython3",
   "version": "3.7.4"
  }
 },
 "nbformat": 4,
 "nbformat_minor": 4
}
