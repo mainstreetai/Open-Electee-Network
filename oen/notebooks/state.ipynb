{
 "cells": [
  {
   "cell_type": "code",
   "execution_count": 195,
   "metadata": {},
   "outputs": [],
   "source": [
    "import os\n",
    "import geojson"
   ]
  },
  {
   "cell_type": "code",
   "execution_count": 196,
   "metadata": {},
   "outputs": [],
   "source": [
    "d = '../../third_parties/elections-api/data/state_leg/'\n",
    "state_folders = [os.path.join(d, o) for o in os.listdir(d) \n",
    "                    if os.path.isdir(os.path.join(d,o))]"
   ]
  },
  {
   "cell_type": "code",
   "execution_count": 197,
   "metadata": {},
   "outputs": [],
   "source": [
    "state2files = {}\n",
    "records = []\n",
    "\n",
    "for state_folder in state_folders:\n",
    "    state = state_folder.split('/')[-1]\n",
    "    state2files[state] = []\n",
    "    for filename in os.listdir(state_folder):\n",
    "        if filename.endswith(\".geojson\") and not filename.endswith('display.geojson'):\n",
    "            state2files[state].append(os.path.join(state_folder, filename))\n",
    "            with open(os.path.join(state_folder, filename)) as f:\n",
    "                data = geojson.load(f)\n",
    "                chamber = data['properties']['chamber']\n",
    "                district_num = data['properties']['district_num']\n",
    "                geoid = data['properties']['geoid']\n",
    "                state = data['properties']['state']\n",
    "                aclu_id = data['properties']['aclu_id']\n",
    "                name = data['properties']['name']\n",
    "                records.append([geoid, district_num, state, aclu_id, chamber, data['geometry'], name])"
   ]
  },
  {
   "cell_type": "code",
   "execution_count": 198,
   "metadata": {},
   "outputs": [],
   "source": [
    "geo_df = pd.DataFrame.from_records(records, columns=['geoid', \n",
    "                                                     'district_num', \n",
    "                                                     'state', \n",
    "                                                     'aclu_id', \n",
    "                                                     'chamber', \n",
    "                                                     'geometry',\n",
    "                                                     'name'])"
   ]
  },
  {
   "cell_type": "code",
   "execution_count": 199,
   "metadata": {},
   "outputs": [
    {
     "data": {
      "text/plain": [
       "dict_keys(['vt', 'va', 'sd', 'sc', 'ut', 'ga', 'ms', 'mt', 'mo', 'ma', 'ak', 'ky', 'al', 'nh', 'mn', 'mi', 'ok', 'in', 'co', 'ca', 'ia', 'ct', 'fl', 'wv', 'ri', 'wy', 'tx', 'pr', 'pa', 'nc', 'nd', 'nm', 'nj', 'me', 'ar', 'nv', 'dc', 'md', 'ks', 'ne', 'hi', 'de', 'az', 'ny', 'id', 'oh', 'or', 'il', 'la', 'wi', 'wa', 'tn'])"
      ]
     },
     "execution_count": 199,
     "metadata": {},
     "output_type": "execute_result"
    }
   ],
   "source": [
    "state2files.keys()"
   ]
  },
  {
   "cell_type": "code",
   "execution_count": 200,
   "metadata": {},
   "outputs": [],
   "source": [
    "pd.set_option('display.max_rows', 300)"
   ]
  },
  {
   "cell_type": "code",
   "execution_count": 201,
   "metadata": {},
   "outputs": [
    {
     "data": {
      "text/plain": [
       "(7461, 27)"
      ]
     },
     "execution_count": 201,
     "metadata": {},
     "output_type": "execute_result"
    }
   ],
   "source": [
    "people_df.shape"
   ]
  },
  {
   "cell_type": "code",
   "execution_count": 202,
   "metadata": {},
   "outputs": [],
   "source": [
    "d = '../../third_parties/people/data/'\n",
    "state_folders = [os.path.join(d, o) for o in os.listdir(d) \n",
    "                    if os.path.isdir(os.path.join(d,o))]"
   ]
  },
  {
   "cell_type": "code",
   "execution_count": 203,
   "metadata": {},
   "outputs": [],
   "source": [
    "state2files = {}\n",
    "\n",
    "for state_folder in state_folders:\n",
    "    state = state_folder.split('/')[-1]\n",
    "    state2files[state] = []\n",
    "    for filename in os.listdir(os.path.join(state_folder, 'legislature')):\n",
    "        if filename.endswith(\".yml\"):\n",
    "            state2files[state].append(os.path.join(state_folder, filename))"
   ]
  },
  {
   "cell_type": "code",
   "execution_count": 204,
   "metadata": {},
   "outputs": [],
   "source": [
    "import yaml\n",
    "from tqdm import tqdm\n",
    "import requests\n",
    "import io\n",
    "import pandas as pd"
   ]
  },
  {
   "cell_type": "code",
   "execution_count": 205,
   "metadata": {},
   "outputs": [],
   "source": [
    "url_pattern = 'https://data.openstates.org/people/current/{}.csv'\n",
    "\n",
    "datas = []\n",
    "for st in state2files.keys():\n",
    "    url = url_pattern.format(st)\n",
    "    r = requests.get(url)\n",
    "    tmp_df = pd.read_csv(io.BytesIO(r.content), encoding='utf8')\n",
    "    tmp_df['state'] = st\n",
    "    datas.append(tmp_df)"
   ]
  },
  {
   "cell_type": "code",
   "execution_count": 206,
   "metadata": {},
   "outputs": [],
   "source": [
    "people_df = pd.concat(datas)"
   ]
  },
  {
   "cell_type": "code",
   "execution_count": 207,
   "metadata": {},
   "outputs": [
    {
     "data": {
      "text/plain": [
       "(7461, 26)"
      ]
     },
     "execution_count": 207,
     "metadata": {},
     "output_type": "execute_result"
    }
   ],
   "source": [
    "people_df.shape"
   ]
  },
  {
   "cell_type": "code",
   "execution_count": 209,
   "metadata": {},
   "outputs": [],
   "source": [
    "def get_district_from_people(row):\n",
    "    return \"{}__{}__{}\".format(row['state'], row['current_chamber'], str(row['current_district']))\n",
    "\n",
    "people_df['oen_district'] = people_df.apply(lambda x: get_district_from_people(x), axis=1)"
   ]
  },
  {
   "cell_type": "code",
   "execution_count": null,
   "metadata": {},
   "outputs": [],
   "source": []
  },
  {
   "cell_type": "code",
   "execution_count": null,
   "metadata": {},
   "outputs": [],
   "source": []
  },
  {
   "cell_type": "code",
   "execution_count": 210,
   "metadata": {},
   "outputs": [],
   "source": [
    "house_mapping_csv_url = 'https://raw.githubusercontent.com/democrats/data/master/elected-officials-roster/state_house_elected_officials.csv'\n",
    "senate_mapping_csv_url = 'https://raw.githubusercontent.com/democrats/data/master/elected-officials-roster/state_senate_elected_officials.csv'"
   ]
  },
  {
   "cell_type": "code",
   "execution_count": 211,
   "metadata": {},
   "outputs": [],
   "source": [
    "r = requests.get(house_mapping_csv_url)\n",
    "house_mapping_df = pd.read_csv(io.BytesIO(r.content), encoding='utf8')\n",
    "\n",
    "r = requests.get(senate_mapping_csv_url)\n",
    "senate_mapping_df = pd.read_csv(io.BytesIO(r.content), encoding='utf8')\n",
    "\n",
    "state_mapping_df = pd.concat([house_mapping_df, senate_mapping_df])"
   ]
  },
  {
   "cell_type": "code",
   "execution_count": 212,
   "metadata": {},
   "outputs": [],
   "source": [
    "state_mapping_df['complete_geoid'] = state_mapping_df['geoid'].apply(lambda x: \"0\"+x if len(x)==4 else x)"
   ]
  },
  {
   "cell_type": "code",
   "execution_count": 213,
   "metadata": {},
   "outputs": [],
   "source": [
    "geoid2district = dict(zip(state_mapping_df.complete_geoid, state_mapping_df.district))"
   ]
  },
  {
   "cell_type": "code",
   "execution_count": 214,
   "metadata": {},
   "outputs": [],
   "source": [
    "def get_district_from_geoid(x):\n",
    "    try:\n",
    "        return geoid2district[x]\n",
    "    except:\n",
    "        return None"
   ]
  },
  {
   "cell_type": "code",
   "execution_count": 215,
   "metadata": {},
   "outputs": [],
   "source": [
    "geo_df['district'] = geo_df['geoid'].map(lambda x: get_district_from_geoid(x))"
   ]
  },
  {
   "cell_type": "code",
   "execution_count": 216,
   "metadata": {},
   "outputs": [],
   "source": [
    "def get_oen_district_from_geo(row):\n",
    "    return \"{}__{}__{}\".format(row['state'], row['chamber'], str(row['district']))\n",
    "\n",
    "geo_df['oen_district'] = geo_df.apply(lambda x: get_oen_district_from_geo(x), axis=1)"
   ]
  },
  {
   "cell_type": "code",
   "execution_count": 217,
   "metadata": {},
   "outputs": [
    {
     "data": {
      "text/html": [
       "<div>\n",
       "<style scoped>\n",
       "    .dataframe tbody tr th:only-of-type {\n",
       "        vertical-align: middle;\n",
       "    }\n",
       "\n",
       "    .dataframe tbody tr th {\n",
       "        vertical-align: top;\n",
       "    }\n",
       "\n",
       "    .dataframe thead th {\n",
       "        text-align: right;\n",
       "    }\n",
       "</style>\n",
       "<table border=\"1\" class=\"dataframe\">\n",
       "  <thead>\n",
       "    <tr style=\"text-align: right;\">\n",
       "      <th></th>\n",
       "      <th>id</th>\n",
       "      <th>name</th>\n",
       "      <th>current_party</th>\n",
       "      <th>current_district</th>\n",
       "      <th>current_chamber</th>\n",
       "      <th>given_name</th>\n",
       "      <th>family_name</th>\n",
       "      <th>gender</th>\n",
       "      <th>email</th>\n",
       "      <th>biography</th>\n",
       "      <th>...</th>\n",
       "      <th>capitol_fax</th>\n",
       "      <th>district_address</th>\n",
       "      <th>district_voice</th>\n",
       "      <th>district_fax</th>\n",
       "      <th>twitter</th>\n",
       "      <th>youtube</th>\n",
       "      <th>instagram</th>\n",
       "      <th>facebook</th>\n",
       "      <th>state</th>\n",
       "      <th>oen_district</th>\n",
       "    </tr>\n",
       "  </thead>\n",
       "  <tbody>\n",
       "    <tr>\n",
       "      <th>0</th>\n",
       "      <td>ocd-person/24194dba-4d25-4b8c-be33-8ff50fcd8a8f</td>\n",
       "      <td>Alice M. Emmons</td>\n",
       "      <td>Democratic</td>\n",
       "      <td>Windsor-3-2</td>\n",
       "      <td>lower</td>\n",
       "      <td>Alice</td>\n",
       "      <td>Emmons</td>\n",
       "      <td>NaN</td>\n",
       "      <td>aemmons61@hotmail.com</td>\n",
       "      <td>NaN</td>\n",
       "      <td>...</td>\n",
       "      <td>NaN</td>\n",
       "      <td>318 Summer St.;Springfield, VT 05156</td>\n",
       "      <td>802-885-5893</td>\n",
       "      <td>NaN</td>\n",
       "      <td>NaN</td>\n",
       "      <td>NaN</td>\n",
       "      <td>NaN</td>\n",
       "      <td>NaN</td>\n",
       "      <td>vt</td>\n",
       "      <td>vt__lower__Windsor-3-2</td>\n",
       "    </tr>\n",
       "    <tr>\n",
       "      <th>1</th>\n",
       "      <td>ocd-person/c28e9c1f-b40f-48ef-943f-dfe03317b7d3</td>\n",
       "      <td>Alice W. Nitka</td>\n",
       "      <td>Democratic</td>\n",
       "      <td>Windsor</td>\n",
       "      <td>upper</td>\n",
       "      <td>Alice</td>\n",
       "      <td>Nitka</td>\n",
       "      <td>NaN</td>\n",
       "      <td>anitka@leg.state.vt.us</td>\n",
       "      <td>NaN</td>\n",
       "      <td>...</td>\n",
       "      <td>NaN</td>\n",
       "      <td>P.O. Box 136;Ludlow, VT 05149</td>\n",
       "      <td>802-228-8432</td>\n",
       "      <td>NaN</td>\n",
       "      <td>NaN</td>\n",
       "      <td>NaN</td>\n",
       "      <td>NaN</td>\n",
       "      <td>NaN</td>\n",
       "      <td>vt</td>\n",
       "      <td>vt__upper__Windsor</td>\n",
       "    </tr>\n",
       "    <tr>\n",
       "      <th>2</th>\n",
       "      <td>ocd-person/a366bc32-20d8-41a8-a2cf-939650b7a2c2</td>\n",
       "      <td>Alison Clarkson</td>\n",
       "      <td>Democratic</td>\n",
       "      <td>Windsor</td>\n",
       "      <td>upper</td>\n",
       "      <td>Alison</td>\n",
       "      <td>Clarkson</td>\n",
       "      <td>NaN</td>\n",
       "      <td>AClarkson@leg.state.vt.us</td>\n",
       "      <td>NaN</td>\n",
       "      <td>...</td>\n",
       "      <td>NaN</td>\n",
       "      <td>18 Golf Ave.;Woodstock, VT 05091</td>\n",
       "      <td>802-457-4627</td>\n",
       "      <td>NaN</td>\n",
       "      <td>NaN</td>\n",
       "      <td>NaN</td>\n",
       "      <td>NaN</td>\n",
       "      <td>NaN</td>\n",
       "      <td>vt</td>\n",
       "      <td>vt__upper__Windsor</td>\n",
       "    </tr>\n",
       "    <tr>\n",
       "      <th>3</th>\n",
       "      <td>ocd-person/cd4ceb1c-8960-4b10-b6f8-bd0b8ae0c68c</td>\n",
       "      <td>Alyssa Black</td>\n",
       "      <td>Democratic</td>\n",
       "      <td>Chittenden-8-3</td>\n",
       "      <td>lower</td>\n",
       "      <td>NaN</td>\n",
       "      <td>NaN</td>\n",
       "      <td>NaN</td>\n",
       "      <td>NaN</td>\n",
       "      <td>NaN</td>\n",
       "      <td>...</td>\n",
       "      <td>NaN</td>\n",
       "      <td>115 State St.;Montpelier, VT 05633</td>\n",
       "      <td>802-598-1026</td>\n",
       "      <td>NaN</td>\n",
       "      <td>NaN</td>\n",
       "      <td>NaN</td>\n",
       "      <td>NaN</td>\n",
       "      <td>NaN</td>\n",
       "      <td>vt</td>\n",
       "      <td>vt__lower__Chittenden-8-3</td>\n",
       "    </tr>\n",
       "    <tr>\n",
       "      <th>4</th>\n",
       "      <td>ocd-person/f490d01d-80b7-40ae-9577-572bd1c8567a</td>\n",
       "      <td>Amy Sheldon</td>\n",
       "      <td>Democratic</td>\n",
       "      <td>Addison-1</td>\n",
       "      <td>lower</td>\n",
       "      <td>Amy</td>\n",
       "      <td>Sheldon</td>\n",
       "      <td>NaN</td>\n",
       "      <td>asheldon@leg.state.vt.us</td>\n",
       "      <td>NaN</td>\n",
       "      <td>...</td>\n",
       "      <td>NaN</td>\n",
       "      <td>P.O. Box 311;East Middlebury, VT 05740</td>\n",
       "      <td>802-377-1110</td>\n",
       "      <td>NaN</td>\n",
       "      <td>NaN</td>\n",
       "      <td>NaN</td>\n",
       "      <td>NaN</td>\n",
       "      <td>NaN</td>\n",
       "      <td>vt</td>\n",
       "      <td>vt__lower__Addison-1</td>\n",
       "    </tr>\n",
       "    <tr>\n",
       "      <th>...</th>\n",
       "      <td>...</td>\n",
       "      <td>...</td>\n",
       "      <td>...</td>\n",
       "      <td>...</td>\n",
       "      <td>...</td>\n",
       "      <td>...</td>\n",
       "      <td>...</td>\n",
       "      <td>...</td>\n",
       "      <td>...</td>\n",
       "      <td>...</td>\n",
       "      <td>...</td>\n",
       "      <td>...</td>\n",
       "      <td>...</td>\n",
       "      <td>...</td>\n",
       "      <td>...</td>\n",
       "      <td>...</td>\n",
       "      <td>...</td>\n",
       "      <td>...</td>\n",
       "      <td>...</td>\n",
       "      <td>...</td>\n",
       "      <td>...</td>\n",
       "    </tr>\n",
       "    <tr>\n",
       "      <th>127</th>\n",
       "      <td>ocd-person/37db89c5-6814-450a-8259-5e6d1a046e4f</td>\n",
       "      <td>Tom Leatherwood</td>\n",
       "      <td>Republican</td>\n",
       "      <td>99</td>\n",
       "      <td>lower</td>\n",
       "      <td>Tom</td>\n",
       "      <td>Leatherwood</td>\n",
       "      <td>NaN</td>\n",
       "      <td>rep.tom.leatherwood@capitol.tn.gov</td>\n",
       "      <td>NaN</td>\n",
       "      <td>...</td>\n",
       "      <td>615-253-0294</td>\n",
       "      <td>NaN</td>\n",
       "      <td>NaN</td>\n",
       "      <td>NaN</td>\n",
       "      <td>NaN</td>\n",
       "      <td>NaN</td>\n",
       "      <td>NaN</td>\n",
       "      <td>NaN</td>\n",
       "      <td>tn</td>\n",
       "      <td>tn__lower__99</td>\n",
       "    </tr>\n",
       "    <tr>\n",
       "      <th>128</th>\n",
       "      <td>ocd-person/8036dedc-9be1-4935-9a37-df3f95033110</td>\n",
       "      <td>Torrey C. Harris</td>\n",
       "      <td>Democratic</td>\n",
       "      <td>90</td>\n",
       "      <td>lower</td>\n",
       "      <td>Torrey</td>\n",
       "      <td>Harris</td>\n",
       "      <td>NaN</td>\n",
       "      <td>rep.torrey.harris@capitol.tn.gov</td>\n",
       "      <td>NaN</td>\n",
       "      <td>...</td>\n",
       "      <td>615-253-0292</td>\n",
       "      <td>NaN</td>\n",
       "      <td>NaN</td>\n",
       "      <td>NaN</td>\n",
       "      <td>NaN</td>\n",
       "      <td>NaN</td>\n",
       "      <td>NaN</td>\n",
       "      <td>NaN</td>\n",
       "      <td>tn</td>\n",
       "      <td>tn__lower__90</td>\n",
       "    </tr>\n",
       "    <tr>\n",
       "      <th>129</th>\n",
       "      <td>ocd-person/ee804d8a-2f07-4271-83a7-0179f4c3445c</td>\n",
       "      <td>Vincent Dixie</td>\n",
       "      <td>Democratic</td>\n",
       "      <td>54</td>\n",
       "      <td>lower</td>\n",
       "      <td>Vincent</td>\n",
       "      <td>Dixie</td>\n",
       "      <td>NaN</td>\n",
       "      <td>rep.vincent.dixie@capitol.tn.gov</td>\n",
       "      <td>NaN</td>\n",
       "      <td>...</td>\n",
       "      <td>615-253-0361</td>\n",
       "      <td>NaN</td>\n",
       "      <td>NaN</td>\n",
       "      <td>NaN</td>\n",
       "      <td>NaN</td>\n",
       "      <td>NaN</td>\n",
       "      <td>NaN</td>\n",
       "      <td>NaN</td>\n",
       "      <td>tn</td>\n",
       "      <td>tn__lower__54</td>\n",
       "    </tr>\n",
       "    <tr>\n",
       "      <th>130</th>\n",
       "      <td>ocd-person/5026d19f-d4ec-47b2-b106-f318a45e8585</td>\n",
       "      <td>William Lamberth</td>\n",
       "      <td>Republican</td>\n",
       "      <td>44</td>\n",
       "      <td>lower</td>\n",
       "      <td>William</td>\n",
       "      <td>Lamberth</td>\n",
       "      <td>NaN</td>\n",
       "      <td>rep.william.lamberth@capitol.tn.gov</td>\n",
       "      <td>NaN</td>\n",
       "      <td>...</td>\n",
       "      <td>615-253-0336</td>\n",
       "      <td>NaN</td>\n",
       "      <td>NaN</td>\n",
       "      <td>NaN</td>\n",
       "      <td>NaN</td>\n",
       "      <td>NaN</td>\n",
       "      <td>NaN</td>\n",
       "      <td>NaN</td>\n",
       "      <td>tn</td>\n",
       "      <td>tn__lower__44</td>\n",
       "    </tr>\n",
       "    <tr>\n",
       "      <th>131</th>\n",
       "      <td>ocd-person/73d17744-fdda-495d-b5a8-c44342fc5b38</td>\n",
       "      <td>Yusuf Hakeem</td>\n",
       "      <td>Democratic</td>\n",
       "      <td>28</td>\n",
       "      <td>lower</td>\n",
       "      <td>Yusuf</td>\n",
       "      <td>Hakeem</td>\n",
       "      <td>NaN</td>\n",
       "      <td>rep.yusuf.hakeem@capitol.tn.gov</td>\n",
       "      <td>NaN</td>\n",
       "      <td>...</td>\n",
       "      <td>615-253-0351</td>\n",
       "      <td>NaN</td>\n",
       "      <td>NaN</td>\n",
       "      <td>NaN</td>\n",
       "      <td>NaN</td>\n",
       "      <td>NaN</td>\n",
       "      <td>NaN</td>\n",
       "      <td>NaN</td>\n",
       "      <td>tn</td>\n",
       "      <td>tn__lower__28</td>\n",
       "    </tr>\n",
       "  </tbody>\n",
       "</table>\n",
       "<p>7461 rows × 27 columns</p>\n",
       "</div>"
      ],
      "text/plain": [
       "                                                  id              name  \\\n",
       "0    ocd-person/24194dba-4d25-4b8c-be33-8ff50fcd8a8f   Alice M. Emmons   \n",
       "1    ocd-person/c28e9c1f-b40f-48ef-943f-dfe03317b7d3    Alice W. Nitka   \n",
       "2    ocd-person/a366bc32-20d8-41a8-a2cf-939650b7a2c2   Alison Clarkson   \n",
       "3    ocd-person/cd4ceb1c-8960-4b10-b6f8-bd0b8ae0c68c      Alyssa Black   \n",
       "4    ocd-person/f490d01d-80b7-40ae-9577-572bd1c8567a       Amy Sheldon   \n",
       "..                                               ...               ...   \n",
       "127  ocd-person/37db89c5-6814-450a-8259-5e6d1a046e4f   Tom Leatherwood   \n",
       "128  ocd-person/8036dedc-9be1-4935-9a37-df3f95033110  Torrey C. Harris   \n",
       "129  ocd-person/ee804d8a-2f07-4271-83a7-0179f4c3445c     Vincent Dixie   \n",
       "130  ocd-person/5026d19f-d4ec-47b2-b106-f318a45e8585  William Lamberth   \n",
       "131  ocd-person/73d17744-fdda-495d-b5a8-c44342fc5b38      Yusuf Hakeem   \n",
       "\n",
       "    current_party current_district current_chamber given_name  family_name  \\\n",
       "0      Democratic      Windsor-3-2           lower      Alice       Emmons   \n",
       "1      Democratic          Windsor           upper      Alice        Nitka   \n",
       "2      Democratic          Windsor           upper     Alison     Clarkson   \n",
       "3      Democratic   Chittenden-8-3           lower        NaN          NaN   \n",
       "4      Democratic        Addison-1           lower        Amy      Sheldon   \n",
       "..            ...              ...             ...        ...          ...   \n",
       "127    Republican               99           lower        Tom  Leatherwood   \n",
       "128    Democratic               90           lower     Torrey       Harris   \n",
       "129    Democratic               54           lower    Vincent        Dixie   \n",
       "130    Republican               44           lower    William     Lamberth   \n",
       "131    Democratic               28           lower      Yusuf       Hakeem   \n",
       "\n",
       "    gender                                email biography  ...   capitol_fax  \\\n",
       "0      NaN                aemmons61@hotmail.com       NaN  ...           NaN   \n",
       "1      NaN               anitka@leg.state.vt.us       NaN  ...           NaN   \n",
       "2      NaN            AClarkson@leg.state.vt.us       NaN  ...           NaN   \n",
       "3      NaN                                  NaN       NaN  ...           NaN   \n",
       "4      NaN             asheldon@leg.state.vt.us       NaN  ...           NaN   \n",
       "..     ...                                  ...       ...  ...           ...   \n",
       "127    NaN   rep.tom.leatherwood@capitol.tn.gov       NaN  ...  615-253-0294   \n",
       "128    NaN     rep.torrey.harris@capitol.tn.gov       NaN  ...  615-253-0292   \n",
       "129    NaN     rep.vincent.dixie@capitol.tn.gov       NaN  ...  615-253-0361   \n",
       "130    NaN  rep.william.lamberth@capitol.tn.gov       NaN  ...  615-253-0336   \n",
       "131    NaN      rep.yusuf.hakeem@capitol.tn.gov       NaN  ...  615-253-0351   \n",
       "\n",
       "                           district_address district_voice district_fax  \\\n",
       "0      318 Summer St.;Springfield, VT 05156   802-885-5893          NaN   \n",
       "1             P.O. Box 136;Ludlow, VT 05149   802-228-8432          NaN   \n",
       "2          18 Golf Ave.;Woodstock, VT 05091   802-457-4627          NaN   \n",
       "3        115 State St.;Montpelier, VT 05633   802-598-1026          NaN   \n",
       "4    P.O. Box 311;East Middlebury, VT 05740   802-377-1110          NaN   \n",
       "..                                      ...            ...          ...   \n",
       "127                                     NaN            NaN          NaN   \n",
       "128                                     NaN            NaN          NaN   \n",
       "129                                     NaN            NaN          NaN   \n",
       "130                                     NaN            NaN          NaN   \n",
       "131                                     NaN            NaN          NaN   \n",
       "\n",
       "    twitter youtube instagram facebook state               oen_district  \n",
       "0       NaN     NaN       NaN      NaN    vt     vt__lower__Windsor-3-2  \n",
       "1       NaN     NaN       NaN      NaN    vt         vt__upper__Windsor  \n",
       "2       NaN     NaN       NaN      NaN    vt         vt__upper__Windsor  \n",
       "3       NaN     NaN       NaN      NaN    vt  vt__lower__Chittenden-8-3  \n",
       "4       NaN     NaN       NaN      NaN    vt       vt__lower__Addison-1  \n",
       "..      ...     ...       ...      ...   ...                        ...  \n",
       "127     NaN     NaN       NaN      NaN    tn              tn__lower__99  \n",
       "128     NaN     NaN       NaN      NaN    tn              tn__lower__90  \n",
       "129     NaN     NaN       NaN      NaN    tn              tn__lower__54  \n",
       "130     NaN     NaN       NaN      NaN    tn              tn__lower__44  \n",
       "131     NaN     NaN       NaN      NaN    tn              tn__lower__28  \n",
       "\n",
       "[7461 rows x 27 columns]"
      ]
     },
     "execution_count": 217,
     "metadata": {},
     "output_type": "execute_result"
    }
   ],
   "source": [
    "people_df"
   ]
  },
  {
   "cell_type": "code",
   "execution_count": 218,
   "metadata": {},
   "outputs": [],
   "source": [
    "state_df = pd.merge(geo_df, people_df, on='oen_district', suffixes=('', '_DROP')).filter(regex='^(?!.*_DROP)')"
   ]
  },
  {
   "cell_type": "code",
   "execution_count": 219,
   "metadata": {},
   "outputs": [],
   "source": [
    "state_df.to_csv(\"../../data/state_data.csv\", index=False)"
   ]
  },
  {
   "cell_type": "code",
   "execution_count": null,
   "metadata": {},
   "outputs": [],
   "source": []
  }
 ],
 "metadata": {
  "kernelspec": {
   "display_name": "Python 3",
   "language": "python",
   "name": "python3"
  },
  "language_info": {
   "codemirror_mode": {
    "name": "ipython",
    "version": 3
   },
   "file_extension": ".py",
   "mimetype": "text/x-python",
   "name": "python",
   "nbconvert_exporter": "python",
   "pygments_lexer": "ipython3",
   "version": "3.7.4"
  }
 },
 "nbformat": 4,
 "nbformat_minor": 4
}
