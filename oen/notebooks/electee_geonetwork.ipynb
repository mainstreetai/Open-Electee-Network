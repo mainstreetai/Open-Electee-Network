{
 "cells": [
  {
   "cell_type": "markdown",
   "metadata": {},
   "source": [
    "# Geo-Network of Electees"
   ]
  },
  {
   "cell_type": "markdown",
   "metadata": {},
   "source": [
    "Jerry Xu\n",
    "\n",
    "Updated: 02/17/2020\n",
    "\n",
    "TODO: this notebook needs more documentation. (02/17/2020)"
   ]
  },
  {
   "cell_type": "markdown",
   "metadata": {},
   "source": [
    "Given a congressional district, how do state legistor districts overlap with this district? With this information, we can build coalition of state legislators within targeted House Members' Congressional Districts. "
   ]
  },
  {
   "cell_type": "code",
   "execution_count": 1,
   "metadata": {},
   "outputs": [],
   "source": [
    "import os\n",
    "import json\n",
    "import pandas as pd\n",
    "import geojson\n",
    "import requests\n",
    "import io"
   ]
  },
  {
   "cell_type": "code",
   "execution_count": 2,
   "metadata": {},
   "outputs": [],
   "source": [
    "import us\n",
    "from us import states"
   ]
  },
  {
   "cell_type": "markdown",
   "metadata": {},
   "source": [
    "## 1. Federal Data"
   ]
  },
  {
   "cell_type": "markdown",
   "metadata": {},
   "source": [
    "`elections-api/data/congress_legislators/` has U.S. congress member information. For each congress legislator, we extract:\n",
    "- name\n",
    "- party\n",
    "- district\n",
    "- state\n",
    "- geo shape of congressional district"
   ]
  },
  {
   "cell_type": "code",
   "execution_count": 3,
   "metadata": {},
   "outputs": [],
   "source": [
    "external_path = '../../external/'\n",
    "congress_legislators_path = 'elections-api/data/congress_legislators/'"
   ]
  },
  {
   "cell_type": "code",
   "execution_count": 4,
   "metadata": {},
   "outputs": [],
   "source": [
    "d = os.path.join(external_path, congress_legislators_path)\n",
    "\n",
    "state_folders = [os.path.join(d, o) for o in os.listdir(d) \n",
    "                    if os.path.isdir(os.path.join(d,o))]"
   ]
  },
  {
   "cell_type": "code",
   "execution_count": 5,
   "metadata": {},
   "outputs": [],
   "source": [
    "congress2data = {}\n",
    "\n",
    "for state_folder in state_folders:\n",
    "    state = state_folder.split('/')[-1]\n",
    "    for filename in os.listdir(state_folder):\n",
    "        if filename.endswith(\".json\"):\n",
    "            with open(os.path.join(state_folder, filename)) as f:\n",
    "                data = json.load(f)\n",
    "                aclu_id = data[\"id\"][\"aclu_id\"]\n",
    "                official_name = data[\"name\"].get(\"official_full\")\n",
    "                party = data[\"terms\"][-1]['party']\n",
    "                district = str(data[\"terms\"][-1].get('district'))\n",
    "                state = data[\"terms\"][-1]['state']\n",
    "                legislator_type = data[\"terms\"][-1].get('type')\n",
    "                congress2data[aclu_id] = [aclu_id, official_name, party, district, state, legislator_type]"
   ]
  },
  {
   "cell_type": "code",
   "execution_count": 6,
   "metadata": {},
   "outputs": [],
   "source": [
    "legislator_df = pd.DataFrame(congress2data.values(), columns=['aclu_id', \n",
    "                                                              'official_name', \n",
    "                                                              'party', \n",
    "                                                              'district', \n",
    "                                                              'state', \n",
    "                                                              'legislator_type'])"
   ]
  },
  {
   "cell_type": "code",
   "execution_count": 7,
   "metadata": {},
   "outputs": [],
   "source": [
    "house_legislator_df = legislator_df[legislator_df.legislator_type=='rep'].copy()"
   ]
  },
  {
   "cell_type": "code",
   "execution_count": 8,
   "metadata": {},
   "outputs": [
    {
     "data": {
      "text/html": [
       "<div>\n",
       "<style scoped>\n",
       "    .dataframe tbody tr th:only-of-type {\n",
       "        vertical-align: middle;\n",
       "    }\n",
       "\n",
       "    .dataframe tbody tr th {\n",
       "        vertical-align: top;\n",
       "    }\n",
       "\n",
       "    .dataframe thead th {\n",
       "        text-align: right;\n",
       "    }\n",
       "</style>\n",
       "<table border=\"1\" class=\"dataframe\">\n",
       "  <thead>\n",
       "    <tr style=\"text-align: right;\">\n",
       "      <th></th>\n",
       "      <th>aclu_id</th>\n",
       "      <th>official_name</th>\n",
       "      <th>party</th>\n",
       "      <th>district</th>\n",
       "      <th>state</th>\n",
       "      <th>legislator_type</th>\n",
       "    </tr>\n",
       "  </thead>\n",
       "  <tbody>\n",
       "    <tr>\n",
       "      <th>438</th>\n",
       "      <td>aclu/elections-api/congress_legislator:11661</td>\n",
       "      <td>Deborah K. Ross</td>\n",
       "      <td>Democrat</td>\n",
       "      <td>2</td>\n",
       "      <td>NC</td>\n",
       "      <td>rep</td>\n",
       "    </tr>\n",
       "    <tr>\n",
       "      <th>373</th>\n",
       "      <td>aclu/elections-api/congress_legislator:988</td>\n",
       "      <td>Ted Poe</td>\n",
       "      <td>Republican</td>\n",
       "      <td>2</td>\n",
       "      <td>TX</td>\n",
       "      <td>rep</td>\n",
       "    </tr>\n",
       "    <tr>\n",
       "      <th>233</th>\n",
       "      <td>aclu/elections-api/congress_legislator:580</td>\n",
       "      <td>Mark DeSaulnier</td>\n",
       "      <td>Democrat</td>\n",
       "      <td>11</td>\n",
       "      <td>CA</td>\n",
       "      <td>rep</td>\n",
       "    </tr>\n",
       "    <tr>\n",
       "      <th>389</th>\n",
       "      <td>aclu/elections-api/congress_legislator:965</td>\n",
       "      <td>Joe Barton</td>\n",
       "      <td>Republican</td>\n",
       "      <td>6</td>\n",
       "      <td>TX</td>\n",
       "      <td>rep</td>\n",
       "    </tr>\n",
       "    <tr>\n",
       "      <th>625</th>\n",
       "      <td>aclu/elections-api/congress_legislator:908</td>\n",
       "      <td>Suzanne Bonamici</td>\n",
       "      <td>Democrat</td>\n",
       "      <td>1</td>\n",
       "      <td>OR</td>\n",
       "      <td>rep</td>\n",
       "    </tr>\n",
       "  </tbody>\n",
       "</table>\n",
       "</div>"
      ],
      "text/plain": [
       "                                          aclu_id     official_name  \\\n",
       "438  aclu/elections-api/congress_legislator:11661   Deborah K. Ross   \n",
       "373    aclu/elections-api/congress_legislator:988           Ted Poe   \n",
       "233    aclu/elections-api/congress_legislator:580   Mark DeSaulnier   \n",
       "389    aclu/elections-api/congress_legislator:965        Joe Barton   \n",
       "625    aclu/elections-api/congress_legislator:908  Suzanne Bonamici   \n",
       "\n",
       "          party district state legislator_type  \n",
       "438    Democrat        2    NC             rep  \n",
       "373  Republican        2    TX             rep  \n",
       "233    Democrat       11    CA             rep  \n",
       "389  Republican        6    TX             rep  \n",
       "625    Democrat        1    OR             rep  "
      ]
     },
     "execution_count": 8,
     "metadata": {},
     "output_type": "execute_result"
    }
   ],
   "source": [
    "house_legislator_df.sample(5)"
   ]
  },
  {
   "cell_type": "markdown",
   "metadata": {},
   "source": [
    "given `state` and `district`, let's make `congressional_district` code"
   ]
  },
  {
   "cell_type": "code",
   "execution_count": 9,
   "metadata": {},
   "outputs": [],
   "source": [
    "def make_congressional_district(x):\n",
    "    state = x['state']\n",
    "\n",
    "    district_id = x['district']\n",
    "    if len(district_id) == 1:\n",
    "        district_id = \"0\"+district_id\n",
    "\n",
    "    return states.__dict__[state].fips + district_id"
   ]
  },
  {
   "cell_type": "code",
   "execution_count": 10,
   "metadata": {},
   "outputs": [],
   "source": [
    "house_legislator_df['congressional_district'] = house_legislator_df.apply(make_congressional_district, axis=1)"
   ]
  },
  {
   "cell_type": "code",
   "execution_count": 11,
   "metadata": {},
   "outputs": [
    {
     "data": {
      "text/html": [
       "<div>\n",
       "<style scoped>\n",
       "    .dataframe tbody tr th:only-of-type {\n",
       "        vertical-align: middle;\n",
       "    }\n",
       "\n",
       "    .dataframe tbody tr th {\n",
       "        vertical-align: top;\n",
       "    }\n",
       "\n",
       "    .dataframe thead th {\n",
       "        text-align: right;\n",
       "    }\n",
       "</style>\n",
       "<table border=\"1\" class=\"dataframe\">\n",
       "  <thead>\n",
       "    <tr style=\"text-align: right;\">\n",
       "      <th></th>\n",
       "      <th>aclu_id</th>\n",
       "      <th>official_name</th>\n",
       "      <th>party</th>\n",
       "      <th>district</th>\n",
       "      <th>state</th>\n",
       "      <th>legislator_type</th>\n",
       "      <th>congressional_district</th>\n",
       "    </tr>\n",
       "  </thead>\n",
       "  <tbody>\n",
       "    <tr>\n",
       "      <th>1</th>\n",
       "      <td>aclu/elections-api/congress_legislator:1012</td>\n",
       "      <td>Peter Welch</td>\n",
       "      <td>Democrat</td>\n",
       "      <td>0</td>\n",
       "      <td>VT</td>\n",
       "      <td>rep</td>\n",
       "      <td>5000</td>\n",
       "    </tr>\n",
       "    <tr>\n",
       "      <th>3</th>\n",
       "      <td>aclu/elections-api/congress_legislator:1000</td>\n",
       "      <td>Donald S. Beyer, Jr.</td>\n",
       "      <td>Democrat</td>\n",
       "      <td>8</td>\n",
       "      <td>VA</td>\n",
       "      <td>rep</td>\n",
       "      <td>5108</td>\n",
       "    </tr>\n",
       "    <tr>\n",
       "      <th>4</th>\n",
       "      <td>aclu/elections-api/congress_legislator:11604</td>\n",
       "      <td>Abigail Davis Spanberger</td>\n",
       "      <td>Democrat</td>\n",
       "      <td>7</td>\n",
       "      <td>VA</td>\n",
       "      <td>rep</td>\n",
       "      <td>5107</td>\n",
       "    </tr>\n",
       "    <tr>\n",
       "      <th>5</th>\n",
       "      <td>aclu/elections-api/congress_legislator:11607</td>\n",
       "      <td>Elaine G. Luria</td>\n",
       "      <td>Democrat</td>\n",
       "      <td>2</td>\n",
       "      <td>VA</td>\n",
       "      <td>rep</td>\n",
       "      <td>5102</td>\n",
       "    </tr>\n",
       "    <tr>\n",
       "      <th>6</th>\n",
       "      <td>aclu/elections-api/congress_legislator:11606</td>\n",
       "      <td>Denver Riggleman</td>\n",
       "      <td>Republican</td>\n",
       "      <td>5</td>\n",
       "      <td>VA</td>\n",
       "      <td>rep</td>\n",
       "      <td>5105</td>\n",
       "    </tr>\n",
       "  </tbody>\n",
       "</table>\n",
       "</div>"
      ],
      "text/plain": [
       "                                        aclu_id             official_name  \\\n",
       "1   aclu/elections-api/congress_legislator:1012               Peter Welch   \n",
       "3   aclu/elections-api/congress_legislator:1000      Donald S. Beyer, Jr.   \n",
       "4  aclu/elections-api/congress_legislator:11604  Abigail Davis Spanberger   \n",
       "5  aclu/elections-api/congress_legislator:11607           Elaine G. Luria   \n",
       "6  aclu/elections-api/congress_legislator:11606          Denver Riggleman   \n",
       "\n",
       "        party district state legislator_type congressional_district  \n",
       "1    Democrat        0    VT             rep                   5000  \n",
       "3    Democrat        8    VA             rep                   5108  \n",
       "4    Democrat        7    VA             rep                   5107  \n",
       "5    Democrat        2    VA             rep                   5102  \n",
       "6  Republican        5    VA             rep                   5105  "
      ]
     },
     "execution_count": 11,
     "metadata": {},
     "output_type": "execute_result"
    }
   ],
   "source": [
    "house_legislator_df.head()"
   ]
  },
  {
   "cell_type": "code",
   "execution_count": 12,
   "metadata": {},
   "outputs": [],
   "source": [
    "with open('../../data/census/cb_2018_us_cd116_500k.geojson') as f:\n",
    "    districts = geojson.load(f)\n",
    "    \n",
    "geoid2dist = {}\n",
    "\n",
    "for feat in districts['features']:\n",
    "    coords = feat[\"geometry\"]['coordinates']\n",
    "    geotype = feat[\"geometry\"]['type']\n",
    "    geoid = feat['properties']['GEOID']\n",
    "    geoid2dist[geoid] = feat[\"geometry\"]"
   ]
  },
  {
   "cell_type": "code",
   "execution_count": 13,
   "metadata": {},
   "outputs": [],
   "source": [
    "house_legislator_df['geometry'] = house_legislator_df.congressional_district.apply(lambda x: geoid2dist.get(x))"
   ]
  },
  {
   "cell_type": "code",
   "execution_count": 14,
   "metadata": {},
   "outputs": [],
   "source": [
    "house_legislator_df.drop('geometry', axis=1).to_csv(\"../../data/congress_data_lite.csv\", index=False)"
   ]
  },
  {
   "cell_type": "markdown",
   "metadata": {},
   "source": [
    "uncomment the following line to save all columns (including geometry)"
   ]
  },
  {
   "cell_type": "code",
   "execution_count": 15,
   "metadata": {},
   "outputs": [],
   "source": [
    "# house_legislator_df.to_csv(\"../../data/congress_data.csv\", index=False)"
   ]
  },
  {
   "cell_type": "markdown",
   "metadata": {},
   "source": [
    "## 2. State"
   ]
  },
  {
   "cell_type": "markdown",
   "metadata": {},
   "source": [
    "`elections-api/data/state_leg/` has congress member information for each state. For each congress legislator, we extract multiple attributes, and geo data of their district. "
   ]
  },
  {
   "cell_type": "code",
   "execution_count": 16,
   "metadata": {},
   "outputs": [],
   "source": [
    "external_path = '../../external/'\n",
    "state_legislators_path = 'elections-api/data/state_leg/'\n",
    "\n",
    "d = os.path.join(external_path, state_legislators_path)\n",
    "all_state_folders = [os.path.join(d, o) for o in os.listdir(d) if os.path.isdir(os.path.join(d,o))]"
   ]
  },
  {
   "cell_type": "code",
   "execution_count": 17,
   "metadata": {},
   "outputs": [],
   "source": [
    "state2files = {}\n",
    "records = []\n",
    "\n",
    "for state_folder in all_state_folders:\n",
    "    state = state_folder.split('/')[-1]\n",
    "    state2files[state] = []\n",
    "    for filename in os.listdir(state_folder):\n",
    "        if filename.endswith(\".geojson\") and not filename.endswith('display.geojson'):\n",
    "            state2files[state].append(os.path.join(state_folder, filename))\n",
    "            with open(os.path.join(state_folder, filename)) as f:\n",
    "                data = geojson.load(f)\n",
    "                chamber = data['properties']['chamber']\n",
    "                district_num = data['properties']['district_num']\n",
    "                geoid = data['properties']['geoid']\n",
    "                state = data['properties']['state']\n",
    "                aclu_id = data['properties']['aclu_id']\n",
    "                name = data['properties']['name']\n",
    "                records.append([geoid, district_num, state, aclu_id, chamber, data['geometry'], name])"
   ]
  },
  {
   "cell_type": "code",
   "execution_count": 18,
   "metadata": {},
   "outputs": [],
   "source": [
    "geo_df = pd.DataFrame.from_records(records, columns=['geoid', \n",
    "                                                     'district_num', \n",
    "                                                     'state', \n",
    "                                                     'aclu_id', \n",
    "                                                     'chamber', \n",
    "                                                     'geometry',\n",
    "                                                     'name'])"
   ]
  },
  {
   "cell_type": "code",
   "execution_count": 19,
   "metadata": {},
   "outputs": [],
   "source": [
    "people_path = 'people/data/'\n",
    "\n",
    "d = os.path.join(external_path, people_path)\n",
    "state_folders = [os.path.join(d, o) for o in os.listdir(d) \n",
    "                    if os.path.isdir(os.path.join(d,o))]"
   ]
  },
  {
   "cell_type": "code",
   "execution_count": 20,
   "metadata": {},
   "outputs": [],
   "source": [
    "state2files = {}\n",
    "\n",
    "for state_folder in state_folders:\n",
    "    state = state_folder.split('/')[-1]\n",
    "    state2files[state] = []\n",
    "    for filename in os.listdir(os.path.join(state_folder, 'legislature')):\n",
    "        if filename.endswith(\".yml\"):\n",
    "            state2files[state].append(os.path.join(state_folder, filename))"
   ]
  },
  {
   "cell_type": "code",
   "execution_count": 21,
   "metadata": {},
   "outputs": [],
   "source": [
    "url_pattern = 'https://data.openstates.org/people/current/{}.csv'\n",
    "\n",
    "datas = []\n",
    "for st in state2files.keys():\n",
    "    url = url_pattern.format(st)\n",
    "    r = requests.get(url)\n",
    "    tmp_df = pd.read_csv(io.BytesIO(r.content), encoding='utf8')\n",
    "    tmp_df['state'] = st\n",
    "    datas.append(tmp_df)"
   ]
  },
  {
   "cell_type": "code",
   "execution_count": 22,
   "metadata": {},
   "outputs": [],
   "source": [
    "people_df = pd.concat(datas)"
   ]
  },
  {
   "cell_type": "code",
   "execution_count": 23,
   "metadata": {},
   "outputs": [],
   "source": [
    "def get_district_from_people(row):\n",
    "    return \"{}__{}__{}\".format(row['state'], row['current_chamber'], str(row['current_district']))\n",
    "\n",
    "people_df['oen_district'] = people_df.apply(lambda x: get_district_from_people(x), axis=1)"
   ]
  },
  {
   "cell_type": "code",
   "execution_count": 24,
   "metadata": {},
   "outputs": [],
   "source": [
    "house_mapping_csv_url = 'https://raw.githubusercontent.com/democrats/data/master/elected-officials-roster/state_house_elected_officials.csv'\n",
    "senate_mapping_csv_url = 'https://raw.githubusercontent.com/democrats/data/master/elected-officials-roster/state_senate_elected_officials.csv'"
   ]
  },
  {
   "cell_type": "code",
   "execution_count": 25,
   "metadata": {},
   "outputs": [],
   "source": [
    "r = requests.get(house_mapping_csv_url)\n",
    "house_mapping_df = pd.read_csv(io.BytesIO(r.content), encoding='utf8')\n",
    "\n",
    "r = requests.get(senate_mapping_csv_url)\n",
    "senate_mapping_df = pd.read_csv(io.BytesIO(r.content), encoding='utf8')\n",
    "\n",
    "state_mapping_df = pd.concat([house_mapping_df, senate_mapping_df])"
   ]
  },
  {
   "cell_type": "code",
   "execution_count": 26,
   "metadata": {},
   "outputs": [],
   "source": [
    "state_mapping_df['complete_geoid'] = state_mapping_df['geoid'].apply(lambda x: \"0\"+x if len(x)==4 else x)"
   ]
  },
  {
   "cell_type": "code",
   "execution_count": 27,
   "metadata": {},
   "outputs": [],
   "source": [
    "geoid2district = dict(zip(state_mapping_df.complete_geoid, state_mapping_df.district))"
   ]
  },
  {
   "cell_type": "code",
   "execution_count": 28,
   "metadata": {},
   "outputs": [],
   "source": [
    "geo_df['district'] = geo_df['geoid'].map(lambda x: geoid2district.get(x))"
   ]
  },
  {
   "cell_type": "code",
   "execution_count": 29,
   "metadata": {},
   "outputs": [],
   "source": [
    "def get_oen_district_from_geo(row):\n",
    "    return \"{}__{}__{}\".format(row['state'], row['chamber'], str(row['district']))\n",
    "\n",
    "geo_df['oen_district'] = geo_df.apply(lambda x: get_oen_district_from_geo(x), axis=1)"
   ]
  },
  {
   "cell_type": "code",
   "execution_count": 30,
   "metadata": {},
   "outputs": [],
   "source": [
    "state_df = pd.merge(geo_df, people_df, on='oen_district', suffixes=('', '_DROP')).filter(regex='^(?!.*_DROP)')"
   ]
  },
  {
   "cell_type": "code",
   "execution_count": 31,
   "metadata": {},
   "outputs": [
    {
     "data": {
      "text/html": [
       "<div>\n",
       "<style scoped>\n",
       "    .dataframe tbody tr th:only-of-type {\n",
       "        vertical-align: middle;\n",
       "    }\n",
       "\n",
       "    .dataframe tbody tr th {\n",
       "        vertical-align: top;\n",
       "    }\n",
       "\n",
       "    .dataframe thead th {\n",
       "        text-align: right;\n",
       "    }\n",
       "</style>\n",
       "<table border=\"1\" class=\"dataframe\">\n",
       "  <thead>\n",
       "    <tr style=\"text-align: right;\">\n",
       "      <th></th>\n",
       "      <th>geoid</th>\n",
       "      <th>district_num</th>\n",
       "      <th>state</th>\n",
       "      <th>aclu_id</th>\n",
       "      <th>chamber</th>\n",
       "      <th>geometry</th>\n",
       "      <th>name</th>\n",
       "      <th>district</th>\n",
       "      <th>oen_district</th>\n",
       "      <th>id</th>\n",
       "      <th>...</th>\n",
       "      <th>capitol_address</th>\n",
       "      <th>capitol_voice</th>\n",
       "      <th>capitol_fax</th>\n",
       "      <th>district_address</th>\n",
       "      <th>district_voice</th>\n",
       "      <th>district_fax</th>\n",
       "      <th>twitter</th>\n",
       "      <th>youtube</th>\n",
       "      <th>instagram</th>\n",
       "      <th>facebook</th>\n",
       "    </tr>\n",
       "  </thead>\n",
       "  <tbody>\n",
       "    <tr>\n",
       "      <th>0</th>\n",
       "      <td>50ECO</td>\n",
       "      <td>ECO</td>\n",
       "      <td>vt</td>\n",
       "      <td>aclu/elections-api/state_leg:6904</td>\n",
       "      <td>lower</td>\n",
       "      <td>{'type': 'Polygon', 'coordinates': [[[-72.1141...</td>\n",
       "      <td>Essex-Caledonia-Orleans State House District</td>\n",
       "      <td>Essex-Caledonia-Orleans</td>\n",
       "      <td>vt__lower__Essex-Caledonia-Orleans</td>\n",
       "      <td>ocd-person/dab673f8-4a06-4563-b1ed-6180675cd37c</td>\n",
       "      <td>...</td>\n",
       "      <td>Vermont State House;115 State Street;Montpelie...</td>\n",
       "      <td>NaN</td>\n",
       "      <td>NaN</td>\n",
       "      <td>P.O. Box 397;Island Pond, VT 05846</td>\n",
       "      <td>802-467-8338</td>\n",
       "      <td>NaN</td>\n",
       "      <td>NaN</td>\n",
       "      <td>NaN</td>\n",
       "      <td>NaN</td>\n",
       "      <td>NaN</td>\n",
       "    </tr>\n",
       "    <tr>\n",
       "      <th>1</th>\n",
       "      <td>50E-C</td>\n",
       "      <td>E-C</td>\n",
       "      <td>vt</td>\n",
       "      <td>aclu/elections-api/state_leg:6903</td>\n",
       "      <td>lower</td>\n",
       "      <td>{'type': 'Polygon', 'coordinates': [[[-71.9581...</td>\n",
       "      <td>Essex-Caledonia State House District</td>\n",
       "      <td>Essex-Caledonia</td>\n",
       "      <td>vt__lower__Essex-Caledonia</td>\n",
       "      <td>ocd-person/3ccfc509-4351-477a-869a-849eb6f10a5d</td>\n",
       "      <td>...</td>\n",
       "      <td>Vermont State House;115 State Street;Montpelie...</td>\n",
       "      <td>NaN</td>\n",
       "      <td>NaN</td>\n",
       "      <td>115 State St;Montpelier, VT 05633</td>\n",
       "      <td>802-535-4704</td>\n",
       "      <td>NaN</td>\n",
       "      <td>NaN</td>\n",
       "      <td>NaN</td>\n",
       "      <td>NaN</td>\n",
       "      <td>NaN</td>\n",
       "    </tr>\n",
       "    <tr>\n",
       "      <th>2</th>\n",
       "      <td>50BEN</td>\n",
       "      <td>BEN</td>\n",
       "      <td>vt</td>\n",
       "      <td>aclu/elections-api/state_leg:6967</td>\n",
       "      <td>upper</td>\n",
       "      <td>{'type': 'Polygon', 'coordinates': [[[-73.2909...</td>\n",
       "      <td>Bennington State Senate District</td>\n",
       "      <td>Bennington</td>\n",
       "      <td>vt__upper__Bennington</td>\n",
       "      <td>ocd-person/5e6451d0-e410-48e5-854a-bcd0a0a5b3c0</td>\n",
       "      <td>...</td>\n",
       "      <td>Vermont State House;115 State Street;Montpelie...</td>\n",
       "      <td>NaN</td>\n",
       "      <td>NaN</td>\n",
       "      <td>1292 West Rd.;Bennington, VT 05201</td>\n",
       "      <td>NaN</td>\n",
       "      <td>NaN</td>\n",
       "      <td>NaN</td>\n",
       "      <td>NaN</td>\n",
       "      <td>NaN</td>\n",
       "      <td>NaN</td>\n",
       "    </tr>\n",
       "    <tr>\n",
       "      <th>3</th>\n",
       "      <td>50BEN</td>\n",
       "      <td>BEN</td>\n",
       "      <td>vt</td>\n",
       "      <td>aclu/elections-api/state_leg:6967</td>\n",
       "      <td>upper</td>\n",
       "      <td>{'type': 'Polygon', 'coordinates': [[[-73.2909...</td>\n",
       "      <td>Bennington State Senate District</td>\n",
       "      <td>Bennington</td>\n",
       "      <td>vt__upper__Bennington</td>\n",
       "      <td>ocd-person/ffba43ff-20d1-492d-a5f7-22855c1fbba4</td>\n",
       "      <td>...</td>\n",
       "      <td>Vermont State House;115 State Street;Montpelie...</td>\n",
       "      <td>NaN</td>\n",
       "      <td>NaN</td>\n",
       "      <td>343 Matteson Rd.;North Bennington, VT 05257</td>\n",
       "      <td>NaN</td>\n",
       "      <td>NaN</td>\n",
       "      <td>NaN</td>\n",
       "      <td>NaN</td>\n",
       "      <td>NaN</td>\n",
       "      <td>NaN</td>\n",
       "    </tr>\n",
       "    <tr>\n",
       "      <th>4</th>\n",
       "      <td>50WAC</td>\n",
       "      <td>WAC</td>\n",
       "      <td>vt</td>\n",
       "      <td>aclu/elections-api/state_leg:6953</td>\n",
       "      <td>lower</td>\n",
       "      <td>{'type': 'Polygon', 'coordinates': [[[-73.0326...</td>\n",
       "      <td>Washington-Chittenden State House District</td>\n",
       "      <td>Washington-Chittenden</td>\n",
       "      <td>vt__lower__Washington-Chittenden</td>\n",
       "      <td>ocd-person/f68d3f17-24ca-4b87-8837-6a30737d21d8</td>\n",
       "      <td>...</td>\n",
       "      <td>Vermont State House;115 State Street;Montpelie...</td>\n",
       "      <td>NaN</td>\n",
       "      <td>NaN</td>\n",
       "      <td>115 State St.;Montpelier, VT 05633</td>\n",
       "      <td>NaN</td>\n",
       "      <td>NaN</td>\n",
       "      <td>NaN</td>\n",
       "      <td>NaN</td>\n",
       "      <td>NaN</td>\n",
       "      <td>NaN</td>\n",
       "    </tr>\n",
       "  </tbody>\n",
       "</table>\n",
       "<p>5 rows × 33 columns</p>\n",
       "</div>"
      ],
      "text/plain": [
       "   geoid district_num state                            aclu_id chamber  \\\n",
       "0  50ECO          ECO    vt  aclu/elections-api/state_leg:6904   lower   \n",
       "1  50E-C          E-C    vt  aclu/elections-api/state_leg:6903   lower   \n",
       "2  50BEN          BEN    vt  aclu/elections-api/state_leg:6967   upper   \n",
       "3  50BEN          BEN    vt  aclu/elections-api/state_leg:6967   upper   \n",
       "4  50WAC          WAC    vt  aclu/elections-api/state_leg:6953   lower   \n",
       "\n",
       "                                            geometry  \\\n",
       "0  {'type': 'Polygon', 'coordinates': [[[-72.1141...   \n",
       "1  {'type': 'Polygon', 'coordinates': [[[-71.9581...   \n",
       "2  {'type': 'Polygon', 'coordinates': [[[-73.2909...   \n",
       "3  {'type': 'Polygon', 'coordinates': [[[-73.2909...   \n",
       "4  {'type': 'Polygon', 'coordinates': [[[-73.0326...   \n",
       "\n",
       "                                           name                 district  \\\n",
       "0  Essex-Caledonia-Orleans State House District  Essex-Caledonia-Orleans   \n",
       "1          Essex-Caledonia State House District          Essex-Caledonia   \n",
       "2              Bennington State Senate District               Bennington   \n",
       "3              Bennington State Senate District               Bennington   \n",
       "4    Washington-Chittenden State House District    Washington-Chittenden   \n",
       "\n",
       "                         oen_district  \\\n",
       "0  vt__lower__Essex-Caledonia-Orleans   \n",
       "1          vt__lower__Essex-Caledonia   \n",
       "2               vt__upper__Bennington   \n",
       "3               vt__upper__Bennington   \n",
       "4    vt__lower__Washington-Chittenden   \n",
       "\n",
       "                                                id  ...  \\\n",
       "0  ocd-person/dab673f8-4a06-4563-b1ed-6180675cd37c  ...   \n",
       "1  ocd-person/3ccfc509-4351-477a-869a-849eb6f10a5d  ...   \n",
       "2  ocd-person/5e6451d0-e410-48e5-854a-bcd0a0a5b3c0  ...   \n",
       "3  ocd-person/ffba43ff-20d1-492d-a5f7-22855c1fbba4  ...   \n",
       "4  ocd-person/f68d3f17-24ca-4b87-8837-6a30737d21d8  ...   \n",
       "\n",
       "                                     capitol_address capitol_voice  \\\n",
       "0  Vermont State House;115 State Street;Montpelie...           NaN   \n",
       "1  Vermont State House;115 State Street;Montpelie...           NaN   \n",
       "2  Vermont State House;115 State Street;Montpelie...           NaN   \n",
       "3  Vermont State House;115 State Street;Montpelie...           NaN   \n",
       "4  Vermont State House;115 State Street;Montpelie...           NaN   \n",
       "\n",
       "  capitol_fax                             district_address district_voice  \\\n",
       "0         NaN           P.O. Box 397;Island Pond, VT 05846   802-467-8338   \n",
       "1         NaN            115 State St;Montpelier, VT 05633   802-535-4704   \n",
       "2         NaN           1292 West Rd.;Bennington, VT 05201            NaN   \n",
       "3         NaN  343 Matteson Rd.;North Bennington, VT 05257            NaN   \n",
       "4         NaN           115 State St.;Montpelier, VT 05633            NaN   \n",
       "\n",
       "  district_fax twitter youtube instagram  facebook  \n",
       "0          NaN     NaN     NaN       NaN       NaN  \n",
       "1          NaN     NaN     NaN       NaN       NaN  \n",
       "2          NaN     NaN     NaN       NaN       NaN  \n",
       "3          NaN     NaN     NaN       NaN       NaN  \n",
       "4          NaN     NaN     NaN       NaN       NaN  \n",
       "\n",
       "[5 rows x 33 columns]"
      ]
     },
     "execution_count": 31,
     "metadata": {},
     "output_type": "execute_result"
    }
   ],
   "source": [
    "state_df.head()"
   ]
  },
  {
   "cell_type": "code",
   "execution_count": 32,
   "metadata": {},
   "outputs": [],
   "source": [
    "state_df.drop('geometry', axis=1).to_csv(\"../../data/state_legsislature_data_lite.csv\", index=False)"
   ]
  },
  {
   "cell_type": "markdown",
   "metadata": {},
   "source": [
    "uncomment the following line to save all columns (including geometry)"
   ]
  },
  {
   "cell_type": "code",
   "execution_count": 33,
   "metadata": {},
   "outputs": [],
   "source": [
    "# state_df.to_csv(\"../../data/state_legsislature_data.csv\", index=False)"
   ]
  },
  {
   "cell_type": "markdown",
   "metadata": {},
   "source": [
    "## 3. Geometry"
   ]
  },
  {
   "cell_type": "markdown",
   "metadata": {},
   "source": [
    "``` I have a pen, I have pineapple / Uh! Pineapple-Pen!```"
   ]
  },
  {
   "cell_type": "markdown",
   "metadata": {},
   "source": [
    "- I have U.S. Congressional Districts, I have state legislator districts\n",
    "- Uh! Let's see how they overlap"
   ]
  },
  {
   "cell_type": "code",
   "execution_count": 34,
   "metadata": {},
   "outputs": [],
   "source": [
    "from shapely.geometry import Point, Polygon, MultiPolygon\n",
    "from shapely.geometry import shape"
   ]
  },
  {
   "cell_type": "code",
   "execution_count": 35,
   "metadata": {},
   "outputs": [],
   "source": [
    "def get_polygon(x):\n",
    "    coordinates = x['coordinates']\n",
    "    collect = []\n",
    "    def make_polygons(coordinates):\n",
    "        try:\n",
    "            collect.append(Polygon(coordinates))\n",
    "        except:\n",
    "            for x in coordinates:\n",
    "                make_polygons(x)\n",
    "    make_polygons(coordinates)\n",
    "    return MultiPolygon(collect)"
   ]
  },
  {
   "cell_type": "code",
   "execution_count": 36,
   "metadata": {},
   "outputs": [
    {
     "data": {
      "text/plain": [
       "geojson.geometry.MultiPolygon"
      ]
     },
     "execution_count": 36,
     "metadata": {},
     "output_type": "execute_result"
    }
   ],
   "source": [
    "type(house_legislator_df.geometry.iloc[3])"
   ]
  },
  {
   "cell_type": "code",
   "execution_count": 37,
   "metadata": {
    "scrolled": false
   },
   "outputs": [],
   "source": [
    "records = {}\n",
    "\n",
    "for index, congress_person in house_legislator_df[house_legislator_df.geometry.notnull()].iterrows():\n",
    "    state = congress_person['state'].lower()\n",
    "    congressional_district = congress_person['congressional_district']\n",
    "    records[congressional_district] = []\n",
    "    \n",
    "    state_subset_df = state_df[state_df.state == state]\n",
    "    map_obj = shape(congress_person['geometry'])\n",
    "    for index, state_person in state_subset_df.iterrows():\n",
    "        state_map_obj = shape(state_person['geometry'])\n",
    "        oen_district = state_person['oen_district']\n",
    "        if map_obj.intersects(state_map_obj): \n",
    "            if map_obj.intersection(state_map_obj).area> 0.001:\n",
    "                records[congressional_district].append(oen_district)"
   ]
  },
  {
   "cell_type": "code",
   "execution_count": 38,
   "metadata": {},
   "outputs": [],
   "source": [
    "records_list = []\n",
    "\n",
    "for k, v in records.items():\n",
    "    records_list.append([k, \", \".join(v)])"
   ]
  },
  {
   "cell_type": "code",
   "execution_count": 39,
   "metadata": {},
   "outputs": [],
   "source": [
    "df = pd.DataFrame.from_records(records_list, columns=['congressional_district', 'overlapping_oen_district'])"
   ]
  },
  {
   "cell_type": "code",
   "execution_count": 40,
   "metadata": {},
   "outputs": [
    {
     "data": {
      "text/html": [
       "<div>\n",
       "<style scoped>\n",
       "    .dataframe tbody tr th:only-of-type {\n",
       "        vertical-align: middle;\n",
       "    }\n",
       "\n",
       "    .dataframe tbody tr th {\n",
       "        vertical-align: top;\n",
       "    }\n",
       "\n",
       "    .dataframe thead th {\n",
       "        text-align: right;\n",
       "    }\n",
       "</style>\n",
       "<table border=\"1\" class=\"dataframe\">\n",
       "  <thead>\n",
       "    <tr style=\"text-align: right;\">\n",
       "      <th></th>\n",
       "      <th>congressional_district</th>\n",
       "      <th>overlapping_oen_district</th>\n",
       "    </tr>\n",
       "  </thead>\n",
       "  <tbody>\n",
       "    <tr>\n",
       "      <th>0</th>\n",
       "      <td>5000</td>\n",
       "      <td>vt__lower__Essex-Caledonia-Orleans, vt__lower_...</td>\n",
       "    </tr>\n",
       "    <tr>\n",
       "      <th>1</th>\n",
       "      <td>5108</td>\n",
       "      <td>va__lower__49, va__lower__48, va__upper__32, v...</td>\n",
       "    </tr>\n",
       "    <tr>\n",
       "      <th>2</th>\n",
       "      <td>5107</td>\n",
       "      <td>va__upper__15, va__lower__66, va__upper__4, va...</td>\n",
       "    </tr>\n",
       "    <tr>\n",
       "      <th>3</th>\n",
       "      <td>5102</td>\n",
       "      <td>va__lower__82, va__upper__14, va__lower__83, v...</td>\n",
       "    </tr>\n",
       "    <tr>\n",
       "      <th>4</th>\n",
       "      <td>5105</td>\n",
       "      <td>va__lower__22, va__upper__23, va__lower__14, v...</td>\n",
       "    </tr>\n",
       "  </tbody>\n",
       "</table>\n",
       "</div>"
      ],
      "text/plain": [
       "  congressional_district                           overlapping_oen_district\n",
       "0                   5000  vt__lower__Essex-Caledonia-Orleans, vt__lower_...\n",
       "1                   5108  va__lower__49, va__lower__48, va__upper__32, v...\n",
       "2                   5107  va__upper__15, va__lower__66, va__upper__4, va...\n",
       "3                   5102  va__lower__82, va__upper__14, va__lower__83, v...\n",
       "4                   5105  va__lower__22, va__upper__23, va__lower__14, v..."
      ]
     },
     "execution_count": 40,
     "metadata": {},
     "output_type": "execute_result"
    }
   ],
   "source": [
    "df.head()"
   ]
  },
  {
   "cell_type": "code",
   "execution_count": 41,
   "metadata": {},
   "outputs": [],
   "source": [
    "df.to_csv('../../data/overlapping.csv')"
   ]
  },
  {
   "cell_type": "code",
   "execution_count": null,
   "metadata": {},
   "outputs": [],
   "source": []
  }
 ],
 "metadata": {
  "kernelspec": {
   "display_name": "Python 3",
   "language": "python",
   "name": "python3"
  },
  "language_info": {
   "codemirror_mode": {
    "name": "ipython",
    "version": 3
   },
   "file_extension": ".py",
   "mimetype": "text/x-python",
   "name": "python",
   "nbconvert_exporter": "python",
   "pygments_lexer": "ipython3",
   "version": "3.7.4"
  }
 },
 "nbformat": 4,
 "nbformat_minor": 4
}
